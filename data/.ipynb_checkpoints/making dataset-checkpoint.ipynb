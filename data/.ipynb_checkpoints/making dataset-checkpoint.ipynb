{
 "cells": [
  {
   "cell_type": "code",
   "execution_count": null,
   "id": "23d7507f-be29-4ca5-8d72-1c7eb6ccba1b",
   "metadata": {},
   "outputs": [],
   "source": [
    "import pandas as pd"
   ]
  },
  {
   "cell_type": "code",
   "execution_count": null,
   "id": "a9c5cee9-2880-41e0-a9a1-02b174be864b",
   "metadata": {},
   "outputs": [],
   "source": [
    "path = 'C:\\\\Users\\\\marim\\\\Desktop\\\\summer 2024 projects\\\\internship 2024\\\\data\\\\datasets\\\\'\n",
    "\n",
    "df = pd.read_csv(path + 'Broken.csv')\n",
    "df = df.rename(columns={\"Unnamed: 1\": \"correct\"})"
   ]
  },
  {
   "cell_type": "code",
   "execution_count": null,
   "id": "bcb5d3e9-59ed-44a4-b07d-e9c4ae24a7e0",
   "metadata": {},
   "outputs": [],
   "source": [
    "df1 = df"
   ]
  },
  {
   "cell_type": "code",
   "execution_count": null,
   "id": "88a29674-d53f-4596-a3cb-cd8888ec046e",
   "metadata": {},
   "outputs": [],
   "source": [
    "br = ['V01', 'V02', 'H10', 'H11', 'H12', 'V11', 'V12', 'H20', 'H21', 'H22', 'V21', 'V22'] \n",
    "# br = ['101', '102', '210', '211', '212', '111', '112', '220', '221', '222', '121', '122'] "
   ]
  },
  {
   "cell_type": "code",
   "execution_count": null,
   "id": "14a54a25-13e1-40b8-9719-618e8d46880a",
   "metadata": {},
   "outputs": [],
   "source": [
    "for i in br:\n",
    "    # print(i)\n",
    "    df_new = pd.read_csv(path + 'Broken'+ i + '.csv') # read from csv FileExistsError\n",
    "    # print(df_new)\n",
    "    df = pd.merge(df, df_new, on=\"nodes\")\n",
    "\n",
    "df"
   ]
  },
  {
   "cell_type": "code",
   "execution_count": null,
   "id": "bae79436-8e23-4f79-8167-233461b37d5e",
   "metadata": {},
   "outputs": [],
   "source": [
    "new_row = pd.DataFrame([df.columns], columns=df.columns)\n",
    "df = pd.concat([df, new_row], ignore_index=True)\n",
    "df"
   ]
  },
  {
   "cell_type": "code",
   "execution_count": null,
   "id": "33e4be0a-ffb2-4315-8d1f-1c901c2b1aa6",
   "metadata": {},
   "outputs": [],
   "source": [
    "df['nodes']"
   ]
  },
  {
   "cell_type": "code",
   "execution_count": null,
   "id": "1de1bc3c-2166-4aac-9105-fd8168e8d683",
   "metadata": {},
   "outputs": [],
   "source": [
    "# Create the index\n",
    "index_ = df['nodes']"
   ]
  },
  {
   "cell_type": "code",
   "execution_count": null,
   "id": "75018e92-7b78-4085-9e28-296871b2457c",
   "metadata": {},
   "outputs": [],
   "source": [
    "index_"
   ]
  },
  {
   "cell_type": "code",
   "execution_count": null,
   "id": "ffc7ba05-9ec1-461b-9789-0ac3417beea5",
   "metadata": {},
   "outputs": [],
   "source": [
    "df.index = index_"
   ]
  },
  {
   "cell_type": "code",
   "execution_count": null,
   "id": "ad9e4234-55d9-458c-bdd1-9fe5555e7a05",
   "metadata": {},
   "outputs": [],
   "source": [
    "df"
   ]
  },
  {
   "cell_type": "code",
   "execution_count": null,
   "id": "a7c67154-13c2-4bbb-8ee5-208f32414b9b",
   "metadata": {},
   "outputs": [],
   "source": [
    "new_row = pd.DataFrame([df1.columns], columns=df1.columns)\n",
    "df1 = pd.concat([df1, new_row], ignore_index=True)\n",
    "df1"
   ]
  },
  {
   "cell_type": "code",
   "execution_count": null,
   "id": "3c72328a-e0dc-480d-b359-cec140a0eb19",
   "metadata": {},
   "outputs": [],
   "source": [
    "df1.index = index_\n",
    "df1"
   ]
  },
  {
   "cell_type": "code",
   "execution_count": null,
   "id": "add2aed0-2107-4e6b-b705-d76455b4d605",
   "metadata": {},
   "outputs": [],
   "source": [
    "df = df.transpose()\n",
    "df"
   ]
  },
  {
   "cell_type": "code",
   "execution_count": null,
   "id": "c941f5b5-9867-497c-8e8c-72ff83336c5b",
   "metadata": {},
   "outputs": [],
   "source": [
    "df1 = df1.transpose()\n",
    "df1"
   ]
  },
  {
   "cell_type": "code",
   "execution_count": null,
   "id": "2ccfe5b0-0591-4829-99aa-84c64fa07f6e",
   "metadata": {},
   "outputs": [],
   "source": [
    "df = df.drop('nodes')\n",
    "df"
   ]
  },
  {
   "cell_type": "code",
   "execution_count": null,
   "id": "7b7acee3-a501-4515-94bd-6681916c61a8",
   "metadata": {},
   "outputs": [],
   "source": [
    "df1 = df1.drop('nodes')\n",
    "df1"
   ]
  },
  {
   "cell_type": "code",
   "execution_count": null,
   "id": "e0a87428-9ea8-481f-8805-e0014dd2a9d5",
   "metadata": {},
   "outputs": [],
   "source": [
    "df"
   ]
  },
  {
   "cell_type": "code",
   "execution_count": null,
   "id": "06d02bf3-b480-442f-a1d5-2904b4b5baf7",
   "metadata": {},
   "outputs": [],
   "source": [
    "br1 = [000.0, 101.0, 102.0, 210.0, 211.0, 212.0, 111.0, 112.0, 220.0, 221.0, 222.0, 121.0, 122.0] \n",
    "br1"
   ]
  },
  {
   "cell_type": "code",
   "execution_count": null,
   "id": "a7401204-de2f-40e9-a553-3334ce7d63bb",
   "metadata": {},
   "outputs": [],
   "source": [
    "df = df.assign(numbers=br1)\n",
    "df"
   ]
  },
  {
   "cell_type": "code",
   "execution_count": null,
   "id": "f149e6b0-b5c1-461f-8da7-01a474239c30",
   "metadata": {},
   "outputs": [],
   "source": [
    "df.to_csv(path+'Main_Dataset.csv', index=False)"
   ]
  },
  {
   "cell_type": "code",
   "execution_count": null,
   "id": "56123bd7-041f-4c91-a90e-5ff6330b4b87",
   "metadata": {},
   "outputs": [],
   "source": [
    "df1.to_csv(path+'Correct_Dataset.csv', index=False)"
   ]
  },
  {
   "cell_type": "code",
   "execution_count": null,
   "id": "0a68daa4-22ec-4d5f-9a35-af83f1508db1",
   "metadata": {},
   "outputs": [],
   "source": []
  }
 ],
 "metadata": {
  "kernelspec": {
   "display_name": "Python 3 (ipykernel)",
   "language": "python",
   "name": "python3"
  },
  "language_info": {
   "codemirror_mode": {
    "name": "ipython",
    "version": 3
   },
   "file_extension": ".py",
   "mimetype": "text/x-python",
   "name": "python",
   "nbconvert_exporter": "python",
   "pygments_lexer": "ipython3",
   "version": "3.12.4"
  }
 },
 "nbformat": 4,
 "nbformat_minor": 5
}
