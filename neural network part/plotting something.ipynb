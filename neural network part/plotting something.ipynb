{
 "cells": [
  {
   "cell_type": "code",
   "execution_count": 16,
   "id": "16d64666-5b9b-48d0-8608-c2e3360471dd",
   "metadata": {},
   "outputs": [
    {
     "data": {
      "image/png": "[encoded data removed]",
      "text/plain": [
       "<Figure size 640x480 with 1 Axes>"
      ]
     },
     "metadata": {},
     "output_type": "display_data"
    }
   ],
   "source": [
    "import matplotlib.pyplot as plt\n",
    "\n",
    "# Coordinates and corresponding values from the image\n",
    "coordinates = [(0, 0), (1, 0), (2, 0), (3, 0),  # Bottom row\n",
    "               (0, 1), (3, 1),                  # Middle row\n",
    "               (0, 2), (3, 2),                  # Middle row\n",
    "               (0, 3), (1, 3), (2, 3), (3, 3)]  # Top row\n",
    "\n",
    "values = [None, None, None, 10,                 # Bottom row\n",
    "          None, 4.67,                           # Middle row\n",
    "          None, 2.43,                           # Middle row\n",
    "          4.07, 0.9, -1.32, -4.4]               # Top row\n",
    "\n",
    "# Create a figure and axis\n",
    "fig, ax = plt.subplots()\n",
    "\n",
    "# Plot the points\n",
    "for i, (x, y) in enumerate(coordinates):\n",
    "    if values[i] is not None:\n",
    "        ax.scatter(x, y, color='black')   # Plot the point\n",
    "        ax.text(x, y, str(values[i]), fontsize=12, ha='center', va='top')  # Annotate with value\n",
    "    else:\n",
    "        ax.scatter(x, y, color='black')   # Just the point without value\n",
    "\n",
    "# Set limits and labels\n",
    "ax.set_xlim(-0.75, 3.75)\n",
    "ax.set_ylim(-0.75, 3.75)\n",
    "ax.set_xticks([])\n",
    "ax.set_yticks([])\n",
    "\n",
    "# Arrows for indication\n",
    "ax.annotate('', xy=(0, 0), xytext=(-0.5, 0), arrowprops=dict(facecolor='black', arrowstyle='->'))\n",
    "ax.annotate('', xy=(3, 0), xytext=(3.5, 0), arrowprops=dict(facecolor='black', arrowstyle='->'))\n",
    "\n",
    "# Display the plot\n",
    "plt.gca().invert_yaxis()  # Invert the y-axis to match the whiteboard image\n",
    "plt.show()\n"
   ]
  },
  {
   "cell_type": "code",
   "execution_count": null,
   "id": "73b9e8ba-c863-46f8-9f90-62052251c1a2",
   "metadata": {},
   "outputs": [],
   "source": []
  }
 ],
 "metadata": {
  "kernelspec": {
   "display_name": "Python 3 (ipykernel)",
   "language": "python",
   "name": "python3"
  },
  "language_info": {
   "codemirror_mode": {
    "name": "ipython",
    "version": 3
   },
   "file_extension": ".py",
   "mimetype": "text/x-python",
   "name": "python",
   "nbconvert_exporter": "python",
   "pygments_lexer": "ipython3",
   "version": "3.12.4"
  }
 },
 "nbformat": 4,
 "nbformat_minor": 5
}
