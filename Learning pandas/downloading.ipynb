{
 "cells": [
  {
   "cell_type": "code",
   "execution_count": 1,
   "id": "c0c0acdd-0024-4685-b27e-537657cbed63",
   "metadata": {},
   "outputs": [],
   "source": [
    "import pandas as pd\n"
   ]
  },
  {
   "cell_type": "code",
   "execution_count": 2,
   "id": "37b63c72-8293-488e-b474-17862ec4ddf5",
   "metadata": {},
   "outputs": [],
   "source": [
    "# File path\n",
    "file_path = 'path_to_save_file.csv'\n"
   ]
  },
  {
   "cell_type": "code",
   "execution_count": 6,
   "id": "aaf512aa-4c49-43ea-9ee8-d3bf626d210a",
   "metadata": {},
   "outputs": [],
   "source": [
    "# Sample rows data generator\n",
    "def generate_rows():\n",
    "    for i in range(1, 6):\n",
    "        yield {'Column1': i, 'Column2': chr(66 + i)}  # Example data\n"
   ]
  },
  {
   "cell_type": "code",
   "execution_count": 4,
   "id": "94a35baa-82f9-4cc9-be1a-40646a8a9e86",
   "metadata": {},
   "outputs": [],
   "source": [
    "# Function to save a DataFrame row by row\n",
    "def save_row_to_csv(row, file_path):\n",
    "    df = pd.DataFrame([row])\n",
    "    with open(file_path, 'a') as f:\n",
    "        df.to_csv(f, header=f.tell()==0, index=False)\n"
   ]
  },
  {
   "cell_type": "code",
   "execution_count": 7,
   "id": "5b340737-15d4-4530-9312-4bb0e60f17a0",
   "metadata": {},
   "outputs": [
    {
     "name": "stdout",
     "output_type": "stream",
     "text": [
      "All rows saved to CSV file.\n"
     ]
    }
   ],
   "source": [
    "# Iterate through the row data and save each row\n",
    "for row in generate_rows():\n",
    "    save_row_to_csv(row, file_path)\n",
    "\n",
    "print(\"All rows saved to CSV file.\")\n"
   ]
  },
  {
   "cell_type": "code",
   "execution_count": null,
   "id": "0ed74b28-b664-4337-afc3-76f793ff8c87",
   "metadata": {},
   "outputs": [],
   "source": []
  },
  {
   "cell_type": "code",
   "execution_count": null,
   "id": "e04b5dbf-596c-496b-bd7c-f75947ce9856",
   "metadata": {},
   "outputs": [],
   "source": []
  }
 ],
 "metadata": {
  "kernelspec": {
   "display_name": "Python 3 (ipykernel)",
   "language": "python",
   "name": "python3"
  },
  "language_info": {
   "codemirror_mode": {
    "name": "ipython",
    "version": 3
   },
   "file_extension": ".py",
   "mimetype": "text/x-python",
   "name": "python",
   "nbconvert_exporter": "python",
   "pygments_lexer": "ipython3",
   "version": "3.12.4"
  }
 },
 "nbformat": 4,
 "nbformat_minor": 5
}
