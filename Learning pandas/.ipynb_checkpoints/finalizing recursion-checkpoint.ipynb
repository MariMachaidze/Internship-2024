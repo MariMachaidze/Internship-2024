{
 "cells": [
  {
   "cell_type": "code",
   "execution_count": 1,
   "id": "10f9fa1c-dbe1-48e8-9613-ea63597c440c",
   "metadata": {},
   "outputs": [],
   "source": [
    "import pandas as pd"
   ]
  },
  {
   "cell_type": "raw",
   "id": "65cdd538-c98d-4e0b-9358-44a68022ce43",
   "metadata": {},
   "source": [
    "To figure out how to combine everything together, I need to go my old codes and datas to figure out better strategy.\n",
    "\n",
    "First I looked at the voltage difference between nodes data and voltage on nodes data. This made me realize I need to figure out how to aproach my recursion. To do this I need to go back to my solution. \n",
    "\n",
    "To find the connections like RV01 and others, I used voltage difference data but it could also be done by knowing the nodes. However I'm gonna stick with voltage difference data. This data is same as current data cause resistance is 1K everywhere. Im gonna adapt this code then to make it work if there were different resistors.\n",
    "\n",
    "Okay. Im gonna upload voltage difference data.\n",
    "\n",
    "Last time I work with H11 data so Im gonna upload that one"
   ]
  },
  {
   "cell_type": "raw",
   "id": "d3d3c159-e62c-45d8-a8bd-541409c89128",
   "metadata": {},
   "source": [
    "Now I need to make a perimeter data with all voltage differences, with correct directions.\n",
    "To make this I created new file called \"making perimeter\""
   ]
  },
  {
   "cell_type": "code",
   "execution_count": 2,
   "id": "1373c86a-e119-4532-81e2-88e56e3821ca",
   "metadata": {},
   "outputs": [],
   "source": [
    "path = 'C:\\\\Users\\\\marim\\\\Desktop\\\\summer 2024 projects\\\\internship 2024\\\\data\\\\'\n",
    "\n",
    "df = pd.read_csv(path + \"BrokenV11_perimeter.csv\") # read from csv FileExistsError"
   ]
  },
  {
   "cell_type": "code",
   "execution_count": 3,
   "id": "114192e3-53de-4fb9-87fb-f1b269690965",
   "metadata": {},
   "outputs": [
    {
     "data": {
      "text/html": [
       "<div>\n",
       "<style scoped>\n",
       "    .dataframe tbody tr th:only-of-type {\n",
       "        vertical-align: middle;\n",
       "    }\n",
       "\n",
       "    .dataframe tbody tr th {\n",
       "        vertical-align: top;\n",
       "    }\n",
       "\n",
       "    .dataframe thead th {\n",
       "        text-align: right;\n",
       "    }\n",
       "</style>\n",
       "<table border=\"1\" class=\"dataframe\">\n",
       "  <thead>\n",
       "    <tr style=\"text-align: right;\">\n",
       "      <th></th>\n",
       "      <th>node1</th>\n",
       "      <th>node2</th>\n",
       "      <th>voltage</th>\n",
       "      <th>letters</th>\n",
       "    </tr>\n",
       "  </thead>\n",
       "  <tbody>\n",
       "    <tr>\n",
       "      <th>0</th>\n",
       "      <td>N00</td>\n",
       "      <td>N01</td>\n",
       "      <td>2.899602</td>\n",
       "      <td>AB</td>\n",
       "    </tr>\n",
       "    <tr>\n",
       "      <th>1</th>\n",
       "      <td>N01</td>\n",
       "      <td>N02</td>\n",
       "      <td>1.472919</td>\n",
       "      <td>BC</td>\n",
       "    </tr>\n",
       "    <tr>\n",
       "      <th>2</th>\n",
       "      <td>N02</td>\n",
       "      <td>N03</td>\n",
       "      <td>0.726552</td>\n",
       "      <td>CD</td>\n",
       "    </tr>\n",
       "    <tr>\n",
       "      <th>3</th>\n",
       "      <td>N03</td>\n",
       "      <td>N13</td>\n",
       "      <td>0.726552</td>\n",
       "      <td>DE</td>\n",
       "    </tr>\n",
       "    <tr>\n",
       "      <th>4</th>\n",
       "      <td>N13</td>\n",
       "      <td>N23</td>\n",
       "      <td>1.433289</td>\n",
       "      <td>EF</td>\n",
       "    </tr>\n",
       "    <tr>\n",
       "      <th>5</th>\n",
       "      <td>N23</td>\n",
       "      <td>N33</td>\n",
       "      <td>2.741082</td>\n",
       "      <td>FG</td>\n",
       "    </tr>\n",
       "    <tr>\n",
       "      <th>6</th>\n",
       "      <td>N33</td>\n",
       "      <td>N32</td>\n",
       "      <td>-2.899602</td>\n",
       "      <td>GH</td>\n",
       "    </tr>\n",
       "    <tr>\n",
       "      <th>7</th>\n",
       "      <td>N32</td>\n",
       "      <td>N31</td>\n",
       "      <td>-1.750329</td>\n",
       "      <td>HI</td>\n",
       "    </tr>\n",
       "    <tr>\n",
       "      <th>8</th>\n",
       "      <td>N31</td>\n",
       "      <td>N30</td>\n",
       "      <td>-0.726552</td>\n",
       "      <td>IJ</td>\n",
       "    </tr>\n",
       "    <tr>\n",
       "      <th>9</th>\n",
       "      <td>N30</td>\n",
       "      <td>N20</td>\n",
       "      <td>-0.726552</td>\n",
       "      <td>JK</td>\n",
       "    </tr>\n",
       "    <tr>\n",
       "      <th>10</th>\n",
       "      <td>N20</td>\n",
       "      <td>N10</td>\n",
       "      <td>-1.155879</td>\n",
       "      <td>KL</td>\n",
       "    </tr>\n",
       "    <tr>\n",
       "      <th>11</th>\n",
       "      <td>N10</td>\n",
       "      <td>N00</td>\n",
       "      <td>-2.741082</td>\n",
       "      <td>LA</td>\n",
       "    </tr>\n",
       "  </tbody>\n",
       "</table>\n",
       "</div>"
      ],
      "text/plain": [
       "   node1 node2   voltage letters\n",
       "0    N00   N01  2.899602      AB\n",
       "1    N01   N02  1.472919      BC\n",
       "2    N02   N03  0.726552      CD\n",
       "3    N03   N13  0.726552      DE\n",
       "4    N13   N23  1.433289      EF\n",
       "5    N23   N33  2.741082      FG\n",
       "6    N33   N32 -2.899602      GH\n",
       "7    N32   N31 -1.750329      HI\n",
       "8    N31   N30 -0.726552      IJ\n",
       "9    N30   N20 -0.726552      JK\n",
       "10   N20   N10 -1.155879      KL\n",
       "11   N10   N00 -2.741082      LA"
      ]
     },
     "execution_count": 3,
     "metadata": {},
     "output_type": "execute_result"
    }
   ],
   "source": [
    "df"
   ]
  },
  {
   "cell_type": "code",
   "execution_count": 4,
   "id": "5f3a0a76-fa53-475f-a522-13cd040d0936",
   "metadata": {},
   "outputs": [
    {
     "data": {
      "text/plain": [
       "[2.8996016646445266,\n",
       " 1.4729187140091795,\n",
       " 0.7265518519136878,\n",
       " 0.7265518519136887,\n",
       " 1.4332886936455744,\n",
       " 2.741081583190095,\n",
       " -2.8996016644272906,\n",
       " -1.750328856119962,\n",
       " -0.7265518519136878,\n",
       " -0.7265518519136887,\n",
       " -1.1558785515347916,\n",
       " -2.741081583407332]"
      ]
     },
     "execution_count": 4,
     "metadata": {},
     "output_type": "execute_result"
    }
   ],
   "source": [
    "old_per = df['voltage'].tolist()\n",
    "old_per"
   ]
  },
  {
   "cell_type": "code",
   "execution_count": 5,
   "id": "ddedccf0-5e5d-46f0-b85f-95eac4fb7f65",
   "metadata": {},
   "outputs": [],
   "source": [
    "def connections(list):\n",
    "    new_list = []\n",
    "    for i in range(len(list)):\n",
    "        if i % 3 == 2:\n",
    "            continue\n",
    "        new_list.append(list[i] - list[i+1])\n",
    "    print(*new_list, sep='\\n')\n",
    "    print()\n",
    "    return new_list\n"
   ]
  },
  {
   "cell_type": "code",
   "execution_count": 6,
   "id": "0feed59a-fd0d-43d0-bc24-b66172e1412c",
   "metadata": {},
   "outputs": [
    {
     "name": "stdout",
     "output_type": "stream",
     "text": [
      "1.4266829506353471\n",
      "0.7463668620954917\n",
      "-0.7067368417318858\n",
      "-1.3077928895445208\n",
      "-1.1492728083073287\n",
      "-1.0237770042062742\n",
      "0.4293266996211029\n",
      "1.5852030318725405\n",
      "\n"
     ]
    }
   ],
   "source": [
    "con = connections(old_per)"
   ]
  },
  {
   "cell_type": "code",
   "execution_count": 7,
   "id": "9afc3cec-40be-44a9-8b8a-a44e24f160c3",
   "metadata": {},
   "outputs": [],
   "source": [
    "# for i in range(0, len(d_1), 2):\n",
    "#     # print(i, int(i*3/2)+1)\n",
    "#     print(d_1[i] * -1 + d_1[i+1] + d[int(i*3/2)+1])\n",
    "#     new_data = "
   ]
  },
  {
   "cell_type": "code",
   "execution_count": 8,
   "id": "c4a79087-f7ce-445d-b10a-07ea42a8eaed",
   "metadata": {},
   "outputs": [
    {
     "name": "stdout",
     "output_type": "stream",
     "text": [
      "0 1\n",
      "0.7926026254693241\n",
      "2 4\n",
      "0.8322326458329394\n",
      "4 7\n",
      "-1.6248330520189074\n",
      "6 10\n",
      "-2.2192833539769197e-06\n"
     ]
    }
   ],
   "source": [
    "def new_perimeter(d, d_1):\n",
    "    data = []\n",
    "    for i in range(0, len(d_1), 2):\n",
    "        print(i, int(i*3/2)+1)\n",
    "        print(d_1[i] * -1 + d_1[i+1] + d[int(i*3/2)+1])\n",
    "        data.append(d_1[i] * -1 + d_1[i+1] + d[int(i*3/2)+1])\n",
    "    return data\n",
    "\n",
    "new_per = new_perimeter(old_per, con)"
   ]
  },
  {
   "cell_type": "code",
   "execution_count": 9,
   "id": "a7e54154-2885-4f56-bf1d-1f9ef834391d",
   "metadata": {},
   "outputs": [
    {
     "data": {
      "text/plain": [
       "[0.7926026254693241,\n",
       " 0.8322326458329394,\n",
       " -1.6248330520189074,\n",
       " -2.2192833539769197e-06]"
      ]
     },
     "execution_count": 9,
     "metadata": {},
     "output_type": "execute_result"
    }
   ],
   "source": [
    "new_per"
   ]
  },
  {
   "cell_type": "code",
   "execution_count": 12,
   "id": "a30f5575-8aa8-487d-a143-45090853c17e",
   "metadata": {},
   "outputs": [
    {
     "name": "stdout",
     "output_type": "stream",
     "text": [
      "3\n"
     ]
    }
   ],
   "source": [
    "def checker(per):\n",
    "    for i in range(len(per)):\n",
    "        if abs(per[i]) < 0.00001:\n",
    "            print(i)\n",
    "\n",
    "checker(new_per)"
   ]
  },
  {
   "cell_type": "code",
   "execution_count": null,
   "id": "63b5c6a8-bbb0-4b89-b3bc-6bd7fee41845",
   "metadata": {},
   "outputs": [],
   "source": []
  }
 ],
 "metadata": {
  "kernelspec": {
   "display_name": "Python 3 (ipykernel)",
   "language": "python",
   "name": "python3"
  },
  "language_info": {
   "codemirror_mode": {
    "name": "ipython",
    "version": 3
   },
   "file_extension": ".py",
   "mimetype": "text/x-python",
   "name": "python",
   "nbconvert_exporter": "python",
   "pygments_lexer": "ipython3",
   "version": "3.12.4"
  }
 },
 "nbformat": 4,
 "nbformat_minor": 5
}
