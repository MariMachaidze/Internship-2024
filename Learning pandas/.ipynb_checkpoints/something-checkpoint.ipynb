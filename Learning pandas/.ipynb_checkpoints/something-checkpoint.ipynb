{
 "cells": [
  {
   "cell_type": "code",
   "execution_count": 35,
   "id": "2371fc25-37c2-40d6-a3d9-7b3ffea83f5f",
   "metadata": {},
   "outputs": [],
   "source": [
    "import pandas as pd"
   ]
  },
  {
   "cell_type": "code",
   "execution_count": 36,
   "id": "fde9829d-9d08-484d-85d3-9c0180a9cbeb",
   "metadata": {},
   "outputs": [],
   "source": [
    "path = 'C:\\\\Users\\\\marim\\\\Desktop\\\\summer 2024 projects\\\\internship 2024\\\\data\\\\'\n",
    "\n",
    "df = pd.read_csv(path + \"perimeter.csv\") # read from csv FileExistsError"
   ]
  },
  {
   "cell_type": "code",
   "execution_count": 37,
   "id": "476664c4-85cd-4880-b5a7-92d2079d5c78",
   "metadata": {},
   "outputs": [
    {
     "data": {
      "text/html": [
       "<div>\n",
       "<style scoped>\n",
       "    .dataframe tbody tr th:only-of-type {\n",
       "        vertical-align: middle;\n",
       "    }\n",
       "\n",
       "    .dataframe tbody tr th {\n",
       "        vertical-align: top;\n",
       "    }\n",
       "\n",
       "    .dataframe thead th {\n",
       "        text-align: right;\n",
       "    }\n",
       "</style>\n",
       "<table border=\"1\" class=\"dataframe\">\n",
       "  <thead>\n",
       "    <tr style=\"text-align: right;\">\n",
       "      <th></th>\n",
       "      <th>node1</th>\n",
       "      <th>node2</th>\n",
       "      <th>voltage difference</th>\n",
       "      <th>broken V11</th>\n",
       "      <th>broken H11</th>\n",
       "      <th>letters</th>\n",
       "    </tr>\n",
       "  </thead>\n",
       "  <tbody>\n",
       "    <tr>\n",
       "      <th>0</th>\n",
       "      <td>N00</td>\n",
       "      <td>N01</td>\n",
       "      <td>2.692306</td>\n",
       "      <td>2.899602</td>\n",
       "      <td>2.741082</td>\n",
       "      <td>AB</td>\n",
       "    </tr>\n",
       "    <tr>\n",
       "      <th>1</th>\n",
       "      <td>N01</td>\n",
       "      <td>N02</td>\n",
       "      <td>1.538461</td>\n",
       "      <td>1.472919</td>\n",
       "      <td>1.155879</td>\n",
       "      <td>BC</td>\n",
       "    </tr>\n",
       "    <tr>\n",
       "      <th>2</th>\n",
       "      <td>N02</td>\n",
       "      <td>N03</td>\n",
       "      <td>0.769230</td>\n",
       "      <td>0.726552</td>\n",
       "      <td>0.726552</td>\n",
       "      <td>CD</td>\n",
       "    </tr>\n",
       "    <tr>\n",
       "      <th>3</th>\n",
       "      <td>N03</td>\n",
       "      <td>N13</td>\n",
       "      <td>0.769230</td>\n",
       "      <td>0.726552</td>\n",
       "      <td>0.726552</td>\n",
       "      <td>DE</td>\n",
       "    </tr>\n",
       "    <tr>\n",
       "      <th>4</th>\n",
       "      <td>N13</td>\n",
       "      <td>N23</td>\n",
       "      <td>1.538461</td>\n",
       "      <td>1.433289</td>\n",
       "      <td>1.750329</td>\n",
       "      <td>EF</td>\n",
       "    </tr>\n",
       "    <tr>\n",
       "      <th>5</th>\n",
       "      <td>N23</td>\n",
       "      <td>N33</td>\n",
       "      <td>2.692306</td>\n",
       "      <td>2.741082</td>\n",
       "      <td>2.899602</td>\n",
       "      <td>FG</td>\n",
       "    </tr>\n",
       "    <tr>\n",
       "      <th>6</th>\n",
       "      <td>N32</td>\n",
       "      <td>N33</td>\n",
       "      <td>2.692306</td>\n",
       "      <td>2.899602</td>\n",
       "      <td>2.741082</td>\n",
       "      <td>GH</td>\n",
       "    </tr>\n",
       "    <tr>\n",
       "      <th>7</th>\n",
       "      <td>N31</td>\n",
       "      <td>N32</td>\n",
       "      <td>1.538461</td>\n",
       "      <td>1.750329</td>\n",
       "      <td>1.433289</td>\n",
       "      <td>HI</td>\n",
       "    </tr>\n",
       "    <tr>\n",
       "      <th>8</th>\n",
       "      <td>N30</td>\n",
       "      <td>N31</td>\n",
       "      <td>0.769230</td>\n",
       "      <td>0.726552</td>\n",
       "      <td>0.726552</td>\n",
       "      <td>IJ</td>\n",
       "    </tr>\n",
       "    <tr>\n",
       "      <th>9</th>\n",
       "      <td>N20</td>\n",
       "      <td>N30</td>\n",
       "      <td>0.769230</td>\n",
       "      <td>0.726552</td>\n",
       "      <td>0.726552</td>\n",
       "      <td>JK</td>\n",
       "    </tr>\n",
       "    <tr>\n",
       "      <th>10</th>\n",
       "      <td>N10</td>\n",
       "      <td>N20</td>\n",
       "      <td>1.538461</td>\n",
       "      <td>1.155879</td>\n",
       "      <td>1.472919</td>\n",
       "      <td>KL</td>\n",
       "    </tr>\n",
       "    <tr>\n",
       "      <th>11</th>\n",
       "      <td>N10</td>\n",
       "      <td>N00</td>\n",
       "      <td>-2.692306</td>\n",
       "      <td>-2.741082</td>\n",
       "      <td>-2.899602</td>\n",
       "      <td>AL</td>\n",
       "    </tr>\n",
       "  </tbody>\n",
       "</table>\n",
       "</div>"
      ],
      "text/plain": [
       "   node1 node2  voltage difference  broken V11  broken H11 letters\n",
       "0    N00   N01            2.692306    2.899602    2.741082      AB\n",
       "1    N01   N02            1.538461    1.472919    1.155879      BC\n",
       "2    N02   N03            0.769230    0.726552    0.726552      CD\n",
       "3    N03   N13            0.769230    0.726552    0.726552      DE\n",
       "4    N13   N23            1.538461    1.433289    1.750329      EF\n",
       "5    N23   N33            2.692306    2.741082    2.899602      FG\n",
       "6    N32   N33            2.692306    2.899602    2.741082      GH\n",
       "7    N31   N32            1.538461    1.750329    1.433289      HI\n",
       "8    N30   N31            0.769230    0.726552    0.726552      IJ\n",
       "9    N20   N30            0.769230    0.726552    0.726552      JK\n",
       "10   N10   N20            1.538461    1.155879    1.472919      KL\n",
       "11   N10   N00           -2.692306   -2.741082   -2.899602      AL"
      ]
     },
     "execution_count": 37,
     "metadata": {},
     "output_type": "execute_result"
    }
   ],
   "source": [
    "df"
   ]
  },
  {
   "cell_type": "code",
   "execution_count": 38,
   "id": "6667a81f-d666-4dad-8052-dc1d78a00c39",
   "metadata": {},
   "outputs": [
    {
     "name": "stdout",
     "output_type": "stream",
     "text": [
      "[2.69230624260433 2.741081583407332 2.899601664255636]\n"
     ]
    },
    {
     "data": {
      "text/html": [
       "<div>\n",
       "<style scoped>\n",
       "    .dataframe tbody tr th:only-of-type {\n",
       "        vertical-align: middle;\n",
       "    }\n",
       "\n",
       "    .dataframe tbody tr th {\n",
       "        vertical-align: top;\n",
       "    }\n",
       "\n",
       "    .dataframe thead th {\n",
       "        text-align: right;\n",
       "    }\n",
       "</style>\n",
       "<table border=\"1\" class=\"dataframe\">\n",
       "  <thead>\n",
       "    <tr style=\"text-align: right;\">\n",
       "      <th></th>\n",
       "      <th>node1</th>\n",
       "      <th>node2</th>\n",
       "      <th>voltage difference</th>\n",
       "      <th>broken V11</th>\n",
       "      <th>broken H11</th>\n",
       "      <th>letters</th>\n",
       "    </tr>\n",
       "  </thead>\n",
       "  <tbody>\n",
       "    <tr>\n",
       "      <th>0</th>\n",
       "      <td>N00</td>\n",
       "      <td>N01</td>\n",
       "      <td>2.692306</td>\n",
       "      <td>2.899602</td>\n",
       "      <td>2.741082</td>\n",
       "      <td>AB</td>\n",
       "    </tr>\n",
       "    <tr>\n",
       "      <th>1</th>\n",
       "      <td>N01</td>\n",
       "      <td>N02</td>\n",
       "      <td>1.538461</td>\n",
       "      <td>1.472919</td>\n",
       "      <td>1.155879</td>\n",
       "      <td>BC</td>\n",
       "    </tr>\n",
       "    <tr>\n",
       "      <th>2</th>\n",
       "      <td>N02</td>\n",
       "      <td>N03</td>\n",
       "      <td>0.769230</td>\n",
       "      <td>0.726552</td>\n",
       "      <td>0.726552</td>\n",
       "      <td>CD</td>\n",
       "    </tr>\n",
       "    <tr>\n",
       "      <th>3</th>\n",
       "      <td>N03</td>\n",
       "      <td>N13</td>\n",
       "      <td>0.769230</td>\n",
       "      <td>0.726552</td>\n",
       "      <td>0.726552</td>\n",
       "      <td>DE</td>\n",
       "    </tr>\n",
       "    <tr>\n",
       "      <th>4</th>\n",
       "      <td>N13</td>\n",
       "      <td>N23</td>\n",
       "      <td>1.538461</td>\n",
       "      <td>1.433289</td>\n",
       "      <td>1.750329</td>\n",
       "      <td>EF</td>\n",
       "    </tr>\n",
       "    <tr>\n",
       "      <th>5</th>\n",
       "      <td>N23</td>\n",
       "      <td>N33</td>\n",
       "      <td>2.692306</td>\n",
       "      <td>2.741082</td>\n",
       "      <td>2.899602</td>\n",
       "      <td>FG</td>\n",
       "    </tr>\n",
       "    <tr>\n",
       "      <th>6</th>\n",
       "      <td>N32</td>\n",
       "      <td>N33</td>\n",
       "      <td>2.692306</td>\n",
       "      <td>2.899602</td>\n",
       "      <td>2.741082</td>\n",
       "      <td>GH</td>\n",
       "    </tr>\n",
       "    <tr>\n",
       "      <th>7</th>\n",
       "      <td>N31</td>\n",
       "      <td>N32</td>\n",
       "      <td>1.538461</td>\n",
       "      <td>1.750329</td>\n",
       "      <td>1.433289</td>\n",
       "      <td>HI</td>\n",
       "    </tr>\n",
       "    <tr>\n",
       "      <th>8</th>\n",
       "      <td>N30</td>\n",
       "      <td>N31</td>\n",
       "      <td>0.769230</td>\n",
       "      <td>0.726552</td>\n",
       "      <td>0.726552</td>\n",
       "      <td>IJ</td>\n",
       "    </tr>\n",
       "    <tr>\n",
       "      <th>9</th>\n",
       "      <td>N20</td>\n",
       "      <td>N30</td>\n",
       "      <td>0.769230</td>\n",
       "      <td>0.726552</td>\n",
       "      <td>0.726552</td>\n",
       "      <td>JK</td>\n",
       "    </tr>\n",
       "    <tr>\n",
       "      <th>10</th>\n",
       "      <td>N10</td>\n",
       "      <td>N20</td>\n",
       "      <td>1.538461</td>\n",
       "      <td>1.155879</td>\n",
       "      <td>1.472919</td>\n",
       "      <td>KL</td>\n",
       "    </tr>\n",
       "    <tr>\n",
       "      <th>11</th>\n",
       "      <td>N00</td>\n",
       "      <td>N10</td>\n",
       "      <td>2.692306</td>\n",
       "      <td>2.741082</td>\n",
       "      <td>2.899602</td>\n",
       "      <td>AL</td>\n",
       "    </tr>\n",
       "  </tbody>\n",
       "</table>\n",
       "</div>"
      ],
      "text/plain": [
       "   node1 node2  voltage difference  broken V11  broken H11 letters\n",
       "0    N00   N01            2.692306    2.899602    2.741082      AB\n",
       "1    N01   N02            1.538461    1.472919    1.155879      BC\n",
       "2    N02   N03            0.769230    0.726552    0.726552      CD\n",
       "3    N03   N13            0.769230    0.726552    0.726552      DE\n",
       "4    N13   N23            1.538461    1.433289    1.750329      EF\n",
       "5    N23   N33            2.692306    2.741082    2.899602      FG\n",
       "6    N32   N33            2.692306    2.899602    2.741082      GH\n",
       "7    N31   N32            1.538461    1.750329    1.433289      HI\n",
       "8    N30   N31            0.769230    0.726552    0.726552      IJ\n",
       "9    N20   N30            0.769230    0.726552    0.726552      JK\n",
       "10   N10   N20            1.538461    1.155879    1.472919      KL\n",
       "11   N00   N10            2.692306    2.741082    2.899602      AL"
      ]
     },
     "execution_count": 38,
     "metadata": {},
     "output_type": "execute_result"
    }
   ],
   "source": [
    "#AB BC CD DE EF FG GH HI IJ JK KL LA\n",
    "\n",
    "def swap(idx):\n",
    "    df.loc[idx,['node2','node1']] = df.loc[idx,['node1','node2']].values\n",
    "    print(df.loc[idx,['voltage difference','broken V11','broken H11']].values * (-1))\n",
    "    df.loc[idx,['voltage difference','broken V11','broken H11']] = df.loc[idx,['voltage difference','broken V11','broken H11']].values * (-1)\n",
    "    return df\n",
    "\n",
    "swap(11)\n",
    "df"
   ]
  },
  {
   "cell_type": "code",
   "execution_count": 39,
   "id": "2504b74a-a2bd-4494-a082-8114959e88c3",
   "metadata": {},
   "outputs": [
    {
     "data": {
      "text/plain": [
       "0     2.692306\n",
       "1     1.538461\n",
       "2     0.769230\n",
       "3     0.769230\n",
       "4     1.538461\n",
       "5     2.692306\n",
       "6     2.692306\n",
       "7     1.538461\n",
       "8     0.769230\n",
       "9     0.769230\n",
       "10    1.538461\n",
       "11    2.692306\n",
       "Name: voltage difference, dtype: float64"
      ]
     },
     "execution_count": 39,
     "metadata": {},
     "output_type": "execute_result"
    }
   ],
   "source": [
    "list = df['voltage difference']\n",
    "list"
   ]
  },
  {
   "cell_type": "code",
   "execution_count": 40,
   "id": "b6657c43-ce59-42fa-8f54-9731caadec49",
   "metadata": {},
   "outputs": [],
   "source": [
    "def list_stuff(list):\n",
    "    new_list = []\n",
    "    for i in range(len(list)):\n",
    "        if i % 3 == 2:\n",
    "            continue\n",
    "        new_list.append(list[i+1] - list[i])\n",
    "    print(*new_list, sep='\\n')\n",
    "    print()\n",
    "    return new_list"
   ]
  },
  {
   "cell_type": "code",
   "execution_count": 41,
   "id": "f1f21fa5-8468-4311-a3ed-ae18b3d69cee",
   "metadata": {},
   "outputs": [],
   "source": [
    "def list_second(list):\n",
    "    new_list = []\n",
    "    for i in range(len(list)):\n",
    "        if i % 2 == 1:\n",
    "            continue\n",
    "        new_list.append(list[i+1] - list[i])\n",
    "    print(*new_list, sep='\\n')\n",
    "    print()"
   ]
  },
  {
   "cell_type": "code",
   "execution_count": 104,
   "id": "7bc28eab-062b-4d88-b0ab-75f0ea7850e1",
   "metadata": {},
   "outputs": [
    {
     "data": {
      "text/plain": [
       "[2.69230624260433,\n",
       " 1.5384607100596162,\n",
       " 0.7692303550298085,\n",
       " 0.7692303550298085,\n",
       " 1.5384607100596188,\n",
       " 2.692306242604333,\n",
       " 2.692306242604333,\n",
       " 1.5384607100596188,\n",
       " 0.7692303550298085,\n",
       " 0.7692303550298085,\n",
       " 1.5384607100596162,\n",
       " 2.69230624260433]"
      ]
     },
     "execution_count": 104,
     "metadata": {},
     "output_type": "execute_result"
    }
   ],
   "source": [
    "COR = df['voltage difference'].tolist()\n",
    "V11 = df['broken V11'].tolist()\n",
    "H11 = df['broken H11'].tolist()\n",
    "COR"
   ]
  },
  {
   "cell_type": "code",
   "execution_count": 105,
   "id": "554c1f6e-f535-4e50-a61c-ec34fe727639",
   "metadata": {},
   "outputs": [
    {
     "data": {
      "text/plain": [
       "4.66"
      ]
     },
     "execution_count": 105,
     "metadata": {},
     "output_type": "execute_result"
    }
   ],
   "source": [
    "import math\n",
    "\n",
    "x = 4.65678\n",
    "\n",
    "math.ceil(x * 100) / 100"
   ]
  },
  {
   "cell_type": "code",
   "execution_count": 106,
   "id": "c3362309-c950-4b27-884d-4c94fd8d5af3",
   "metadata": {},
   "outputs": [],
   "source": [
    "\n",
    "def formating(list):\n",
    "    new_list = []\n",
    "    for l in list:\n",
    "        print(l)\n",
    "        # l = int(l * 100) / 100\n",
    "        l = math.ceil(l * 100) / 100\n",
    "        new_list.append(l)\n",
    "    print(new_list)\n",
    "    return new_list\n"
   ]
  },
  {
   "cell_type": "code",
   "execution_count": 107,
   "id": "23e9dc87-7c3b-431a-a3c8-d3df0705a0ce",
   "metadata": {},
   "outputs": [
    {
     "name": "stdout",
     "output_type": "stream",
     "text": [
      "[2.7, 1.54, 0.77, 0.77, 1.54, 2.7, 2.7, 1.54, 0.77, 0.77, 1.54, 2.7]\n",
      "[2.9, 1.48, 0.73, 0.73, 1.44, 2.75, 2.9, 1.76, 0.73, 0.73, 1.16, 2.75]\n",
      "[2.75, 1.16, 0.73, 0.73, 1.76, 2.9, 2.75, 1.44, 0.73, 0.73, 1.48, 2.9]\n"
     ]
    }
   ],
   "source": [
    "COR = formating(COR)\n",
    "V11 = formating(V11)\n",
    "H11 = formating(H11)"
   ]
  },
  {
   "cell_type": "code",
   "execution_count": 108,
   "id": "a40af46a-3933-427e-b95c-9cac5e8e4ede",
   "metadata": {},
   "outputs": [
    {
     "name": "stdout",
     "output_type": "stream",
     "text": [
      "-1.1600000000000001\n",
      "-0.77\n",
      "0.77\n",
      "1.1600000000000001\n",
      "-1.1600000000000001\n",
      "-0.77\n",
      "0.77\n",
      "1.1600000000000001\n",
      "\n",
      "-1.42\n",
      "-0.75\n",
      "0.71\n",
      "1.31\n",
      "-1.14\n",
      "-1.03\n",
      "0.42999999999999994\n",
      "1.59\n",
      "\n",
      "-1.59\n",
      "-0.42999999999999994\n",
      "1.03\n",
      "1.14\n",
      "-1.31\n",
      "-0.71\n",
      "0.75\n",
      "1.42\n",
      "\n"
     ]
    }
   ],
   "source": [
    "COR = list_stuff(COR)\n",
    "V11 = list_stuff(V11)\n",
    "H11 = list_stuff(H11)"
   ]
  },
  {
   "cell_type": "code",
   "execution_count": 109,
   "id": "593dfc0d-0ed6-45d5-9621-a53584484836",
   "metadata": {},
   "outputs": [
    {
     "name": "stdout",
     "output_type": "stream",
     "text": [
      "[-1.16, -0.77, 0.77, 1.17, -1.16, -0.77, 0.77, 1.17]\n",
      "[-1.42, -0.75, 0.71, 1.31, -1.13, -1.03, 0.43, 1.59]\n",
      "[-1.59, -0.42, 1.03, 1.14, -1.31, -0.71, 0.75, 1.42]\n"
     ]
    }
   ],
   "source": [
    "COR = formating(COR)\n",
    "V11 = formating(V11)\n",
    "H11 = formating(H11)"
   ]
  },
  {
   "cell_type": "code",
   "execution_count": 110,
   "id": "134b0608-3a99-467b-b253-e8269c655307",
   "metadata": {},
   "outputs": [
    {
     "name": "stdout",
     "output_type": "stream",
     "text": [
      "0.3899999999999999\n",
      "0.3999999999999999\n",
      "0.3899999999999999\n",
      "0.3999999999999999\n",
      "\n",
      "0.6699999999999999\n",
      "0.6000000000000001\n",
      "0.09999999999999987\n",
      "1.1600000000000001\n",
      "\n",
      "1.1700000000000002\n",
      "0.10999999999999988\n",
      "0.6000000000000001\n",
      "0.6699999999999999\n",
      "\n"
     ]
    }
   ],
   "source": [
    "COR = list_second(COR)\n",
    "V11 = list_second(V11)\n",
    "H11 = list_second(H11)"
   ]
  },
  {
   "cell_type": "code",
   "execution_count": 111,
   "id": "d94071c6-f49a-4d8b-a04b-45fa501128c6",
   "metadata": {},
   "outputs": [
    {
     "ename": "TypeError",
     "evalue": "'NoneType' object is not iterable",
     "output_type": "error",
     "traceback": [
      "\u001b[1;31m---------------------------------------------------------------------------\u001b[0m",
      "\u001b[1;31mTypeError\u001b[0m                                 Traceback (most recent call last)",
      "Cell \u001b[1;32mIn[111], line 1\u001b[0m\n\u001b[1;32m----> 1\u001b[0m COR \u001b[38;5;241m=\u001b[39m \u001b[43mformating\u001b[49m\u001b[43m(\u001b[49m\u001b[43mCOR\u001b[49m\u001b[43m)\u001b[49m\n\u001b[0;32m      2\u001b[0m V11 \u001b[38;5;241m=\u001b[39m formating(V11)\n\u001b[0;32m      3\u001b[0m H11 \u001b[38;5;241m=\u001b[39m formating(H11)\n",
      "Cell \u001b[1;32mIn[106], line 3\u001b[0m, in \u001b[0;36mformating\u001b[1;34m(list)\u001b[0m\n\u001b[0;32m      1\u001b[0m \u001b[38;5;28;01mdef\u001b[39;00m \u001b[38;5;21mformating\u001b[39m(\u001b[38;5;28mlist\u001b[39m):\n\u001b[0;32m      2\u001b[0m     new_list \u001b[38;5;241m=\u001b[39m []\n\u001b[1;32m----> 3\u001b[0m \u001b[43m    \u001b[49m\u001b[38;5;28;43;01mfor\u001b[39;49;00m\u001b[43m \u001b[49m\u001b[43ml\u001b[49m\u001b[43m \u001b[49m\u001b[38;5;129;43;01min\u001b[39;49;00m\u001b[43m \u001b[49m\u001b[38;5;28;43mlist\u001b[39;49m\u001b[43m:\u001b[49m\n\u001b[0;32m      4\u001b[0m \u001b[43m        \u001b[49m\u001b[38;5;66;43;03m# l = int(l * 100) / 100\u001b[39;49;00m\n\u001b[0;32m      5\u001b[0m \u001b[43m        \u001b[49m\u001b[43ml\u001b[49m\u001b[43m \u001b[49m\u001b[38;5;241;43m=\u001b[39;49m\u001b[43m \u001b[49m\u001b[43mmath\u001b[49m\u001b[38;5;241;43m.\u001b[39;49m\u001b[43mceil\u001b[49m\u001b[43m(\u001b[49m\u001b[43ml\u001b[49m\u001b[43m \u001b[49m\u001b[38;5;241;43m*\u001b[39;49m\u001b[43m \u001b[49m\u001b[38;5;241;43m100\u001b[39;49m\u001b[43m)\u001b[49m\u001b[43m \u001b[49m\u001b[38;5;241;43m/\u001b[39;49m\u001b[43m \u001b[49m\u001b[38;5;241;43m100\u001b[39;49m\n\u001b[0;32m      6\u001b[0m \u001b[43m        \u001b[49m\u001b[43mnew_list\u001b[49m\u001b[38;5;241;43m.\u001b[39;49m\u001b[43mappend\u001b[49m\u001b[43m(\u001b[49m\u001b[43ml\u001b[49m\u001b[43m)\u001b[49m\n",
      "\u001b[1;31mTypeError\u001b[0m: 'NoneType' object is not iterable"
     ]
    }
   ],
   "source": [
    "COR = formating(COR)\n",
    "V11 = formating(V11)\n",
    "H11 = formating(H11)"
   ]
  },
  {
   "cell_type": "raw",
   "id": "7b994886-44a1-4ce0-a824-bfc7d6d875de",
   "metadata": {},
   "source": [
    "AB  BC  CD  DE  EF  FG  GH  HI  IJ  JK  KL  LA\n",
    "  B1  C2      E2  F4      H4  I3      K3  L1\n",
    "    H11         V12         H21         V11"
   ]
  },
  {
   "cell_type": "code",
   "execution_count": null,
   "id": "594f2e88-432c-48c9-8acf-3a93533b6ac4",
   "metadata": {},
   "outputs": [],
   "source": []
  },
  {
   "cell_type": "code",
   "execution_count": null,
   "id": "e12b14ec-9da4-4284-8d05-d1abdde00e9a",
   "metadata": {},
   "outputs": [],
   "source": []
  }
 ],
 "metadata": {
  "kernelspec": {
   "display_name": "Python 3 (ipykernel)",
   "language": "python",
   "name": "python3"
  },
  "language_info": {
   "codemirror_mode": {
    "name": "ipython",
    "version": 3
   },
   "file_extension": ".py",
   "mimetype": "text/x-python",
   "name": "python",
   "nbconvert_exporter": "python",
   "pygments_lexer": "ipython3",
   "version": "3.12.4"
  }
 },
 "nbformat": 4,
 "nbformat_minor": 5
}
