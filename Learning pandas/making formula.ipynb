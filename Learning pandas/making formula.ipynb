{
 "cells": [
  {
   "cell_type": "code",
   "execution_count": null,
   "id": "f5c98a6d-735c-4c9c-9fda-7384a4da48ec",
   "metadata": {},
   "outputs": [],
   "source": [
    "import pandas as pd"
   ]
  },
  {
   "cell_type": "code",
   "execution_count": null,
   "id": "609c0434-81ce-46fc-a6ea-b24705841494",
   "metadata": {},
   "outputs": [],
   "source": [
    "path = 'C:\\\\Users\\\\marim\\\\Desktop\\\\summer 2024 projects\\\\internship 2024\\\\data\\\\'\n",
    "\n",
    "df_correct = pd.read_csv(path + \"correct.csv\") # read from csv FileExistsError\n",
    "df_brokenV11 = pd.read_csv(path + \"BrokenV11.csv\") # read from csv FileExistsError\n",
    "df_brokenH11 = pd.read_csv(path + \"BrokenH11.csv\") # read from csv FileExistsError"
   ]
  },
  {
   "cell_type": "code",
   "execution_count": null,
   "id": "142119f0-b550-472f-bd8b-b0b2f3fa25f5",
   "metadata": {},
   "outputs": [],
   "source": []
  }
 ],
 "metadata": {
  "kernelspec": {
   "display_name": "Python 3 (ipykernel)",
   "language": "python",
   "name": "python3"
  },
  "language_info": {
   "codemirror_mode": {
    "name": "ipython",
    "version": 3
   },
   "file_extension": ".py",
   "mimetype": "text/x-python",
   "name": "python",
   "nbconvert_exporter": "python",
   "pygments_lexer": "ipython3",
   "version": "3.12.4"
  }
 },
 "nbformat": 4,
 "nbformat_minor": 5
}
