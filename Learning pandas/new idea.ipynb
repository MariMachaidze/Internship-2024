{
 "cells": [
  {
   "cell_type": "code",
   "execution_count": 129,
   "id": "41071e67-912c-4dc0-86fc-cc4843704b02",
   "metadata": {},
   "outputs": [],
   "source": [
    "import pandas as pd\n",
    "import numpy as np"
   ]
  },
  {
   "cell_type": "code",
   "execution_count": 130,
   "id": "936c5d71-f398-4dff-a056-5d37b4364022",
   "metadata": {},
   "outputs": [],
   "source": [
    "n = 4\n",
    "H = np.zeros([n, n-1], dtype=float)\n",
    "V = np.zeros([n-1, n], dtype=float)"
   ]
  },
  {
   "cell_type": "code",
   "execution_count": 133,
   "id": "8d7f2770-5d9a-4bed-a1f9-a6b45b636297",
   "metadata": {},
   "outputs": [
    {
     "data": {
      "text/plain": [
       "array([[2.74, 1.16, 0.73],\n",
       "       [1.43, 0.  , 0.  ],\n",
       "       [0.  , 0.  , 0.  ],\n",
       "       [0.73, 1.43, 2.74]])"
      ]
     },
     "execution_count": 133,
     "metadata": {},
     "output_type": "execute_result"
    }
   ],
   "source": [
    "H = np.array([[2.74, 1.16, 0.73], \n",
    "              [1.43, 0, 0],\n",
    "              [0, 0, 0],\n",
    "              [0.73, 1.43, 2.74]])\n",
    "H"
   ]
  },
  {
   "cell_type": "code",
   "execution_count": 135,
   "id": "edef2f95-b622-4ed1-bd69-b6ef61f881c4",
   "metadata": {},
   "outputs": [
    {
     "data": {
      "text/plain": [
       "array([[2.9 , 1.59, 0.  , 0.73],\n",
       "       [1.47, 0.  , 0.  , 1.75],\n",
       "       [0.73, 0.  , 0.  , 2.9 ]])"
      ]
     },
     "execution_count": 135,
     "metadata": {},
     "output_type": "execute_result"
    }
   ],
   "source": [
    "V = np.array([[2.90, 1.59, 0, 0.73], \n",
    "              [1.47, 0, 0, 1.75],\n",
    "              [0.73, 0, 0, 2.90]])\n",
    "V"
   ]
  },
  {
   "cell_type": "code",
   "execution_count": 141,
   "id": "bc0a383e-0b84-47fe-a9b0-bb2805dfee52",
   "metadata": {},
   "outputs": [],
   "source": [
    "hi = 0\n",
    "hj = 0\n",
    "vi = 0\n",
    "vj = 0\n"
   ]
  },
  {
   "cell_type": "code",
   "execution_count": 147,
   "id": "a7a085d0-e353-47ea-b976-6aa3db3bc05f",
   "metadata": {},
   "outputs": [
    {
     "name": "stdout",
     "output_type": "stream",
     "text": [
      "2.74\n",
      "1.43\n"
     ]
    },
    {
     "data": {
      "text/plain": [
       "4.32"
      ]
     },
     "execution_count": 147,
     "metadata": {},
     "output_type": "execute_result"
    }
   ],
   "source": [
    "print(H[hi][hj])\n",
    "print(V[vi][vj] - V[vi+1][vj])\n",
    "h = H[hi][hj] + (H[hi][hj] - H[hi][hj+1])\n",
    "h"
   ]
  },
  {
   "cell_type": "code",
   "execution_count": 148,
   "id": "55f7f368-2696-49cc-8e7f-33d0554071d2",
   "metadata": {},
   "outputs": [
    {
     "name": "stdout",
     "output_type": "stream",
     "text": [
      "2.9\n",
      "1.5800000000000003\n"
     ]
    },
    {
     "data": {
      "text/plain": [
       "4.33"
      ]
     },
     "execution_count": 148,
     "metadata": {},
     "output_type": "execute_result"
    }
   ],
   "source": [
    "print(V[vi][vj])\n",
    "print(H[hi][hj] - H[hi][hj+1])\n",
    "v = V[vi][vj] + (V[vi][vj] - V[vi+1][vj])\n",
    "v"
   ]
  },
  {
   "cell_type": "code",
   "execution_count": null,
   "id": "868dce35-68a0-41ea-85c0-d5f3b20d3b0e",
   "metadata": {},
   "outputs": [],
   "source": []
  },
  {
   "cell_type": "code",
   "execution_count": null,
   "id": "780534a8-24dd-4ae4-ab41-ca1829238ef0",
   "metadata": {},
   "outputs": [],
   "source": []
  },
  {
   "cell_type": "code",
   "execution_count": null,
   "id": "134b0fd2-1173-4188-9b25-50ea619c896e",
   "metadata": {},
   "outputs": [],
   "source": []
  },
  {
   "cell_type": "raw",
   "id": "52554cbb-e82c-40b5-af64-04bf976e913a",
   "metadata": {},
   "source": [
    "THIRD ATTEMPT ON SOMETHING:"
   ]
  },
  {
   "cell_type": "code",
   "execution_count": null,
   "id": "aae8e33b-10fd-4c8b-abd5-bd979a857b72",
   "metadata": {},
   "outputs": [],
   "source": [
    "def up_down():\n",
    "    for"
   ]
  },
  {
   "cell_type": "code",
   "execution_count": 150,
   "id": "0661dedc-5710-4edd-a8e3-d369fc4ee727",
   "metadata": {},
   "outputs": [
    {
     "data": {
      "text/plain": [
       "array([[2.74, 1.16, 0.73],\n",
       "       [1.43, 0.  , 0.  ],\n",
       "       [0.  , 0.  , 0.  ],\n",
       "       [0.73, 1.43, 2.74]])"
      ]
     },
     "execution_count": 150,
     "metadata": {},
     "output_type": "execute_result"
    }
   ],
   "source": [
    "H = np.array([[2.74, 1.16, 0.73], \n",
    "              [1.43, 0, 0],\n",
    "              [0, 0, 0],\n",
    "              [0.73, 1.43, 2.74]])\n",
    "H"
   ]
  },
  {
   "cell_type": "code",
   "execution_count": 149,
   "id": "2be89983-1bec-4d9e-a2b1-dea1b89ace4b",
   "metadata": {},
   "outputs": [
    {
     "data": {
      "text/plain": [
       "array([[2.9 , 1.59, 0.  , 0.73],\n",
       "       [1.47, 0.  , 0.  , 1.75],\n",
       "       [0.73, 0.  , 0.  , 2.9 ]])"
      ]
     },
     "execution_count": 149,
     "metadata": {},
     "output_type": "execute_result"
    }
   ],
   "source": [
    "V = np.array([[2.90, 1.59, 0, 0.73], \n",
    "              [1.47, 0, 0, 1.75],\n",
    "              [0.73, 0, 0, 2.90]])\n",
    "V"
   ]
  },
  {
   "cell_type": "code",
   "execution_count": 152,
   "id": "a0bc2eab-6a09-4c2d-867b-b539e1eb2b83",
   "metadata": {},
   "outputs": [
    {
     "data": {
      "text/plain": [
       "array([[2.9 , 1.58, 0.43, 0.73],\n",
       "       [1.47, 0.  , 0.  , 1.75],\n",
       "       [0.73, 0.  , 0.  , 2.9 ]])"
      ]
     },
     "execution_count": 152,
     "metadata": {},
     "output_type": "execute_result"
    }
   ],
   "source": [
    "for i in range(n-2):\n",
    "    # print(H[0][i], H[0][i+1])\n",
    "    V[0][i+1] = H[0][i] -  H[0][i+1]\n",
    "    # print(V[0][i+1])\n",
    "V"
   ]
  },
  {
   "cell_type": "code",
   "execution_count": 157,
   "id": "de02788d-4b8c-4259-aa3f-6bdd7bd1bcfd",
   "metadata": {},
   "outputs": [
    {
     "name": "stdout",
     "output_type": "stream",
     "text": [
      "2.74 1.5800000000000003 2.9\n",
      "1.16 0.42999999999999994 1.5800000000000003\n",
      "0.73 0.73 0.42999999999999994\n"
     ]
    },
    {
     "data": {
      "text/plain": [
       "array([[2.74, 1.16, 0.73],\n",
       "       [1.42, 0.01, 1.03],\n",
       "       [0.  , 0.  , 0.  ],\n",
       "       [0.73, 1.43, 2.74]])"
      ]
     },
     "execution_count": 157,
     "metadata": {},
     "output_type": "execute_result"
    }
   ],
   "source": [
    "j = 0\n",
    "for i in range(n-1):\n",
    "    print(H[j][i], V[j][i+1], V[j][i])\n",
    "    H[j+1][i] = H[j][i] + V[j][i+1] - V[j][i]\n",
    "H"
   ]
  },
  {
   "cell_type": "code",
   "execution_count": 158,
   "id": "29643e24-95b7-41a4-b1b2-e9e679ed8290",
   "metadata": {},
   "outputs": [
    {
     "data": {
      "text/plain": [
       "array([[ 2.9 ,  1.58,  0.43,  0.73],\n",
       "       [ 1.47,  1.41, -1.02,  1.75],\n",
       "       [ 0.73,  0.  ,  0.  ,  2.9 ]])"
      ]
     },
     "execution_count": 158,
     "metadata": {},
     "output_type": "execute_result"
    }
   ],
   "source": [
    "for i in range(n-2):\n",
    "    # print(H[0][i], H[0][i+1])\n",
    "    V[1][i+1] = H[1][i] -  H[1][i+1]\n",
    "    # print(V[0][i+1])\n",
    "V"
   ]
  },
  {
   "cell_type": "code",
   "execution_count": null,
   "id": "658f4bb6-66b4-450e-ac09-46c5e1535b47",
   "metadata": {},
   "outputs": [],
   "source": []
  },
  {
   "cell_type": "code",
   "execution_count": null,
   "id": "ecb616bf-7e06-4b50-a1f9-4c4e4b75ef41",
   "metadata": {},
   "outputs": [],
   "source": []
  },
  {
   "cell_type": "code",
   "execution_count": null,
   "id": "961d8d72-556d-4748-b0f5-c748d4ec564a",
   "metadata": {},
   "outputs": [],
   "source": []
  },
  {
   "cell_type": "code",
   "execution_count": null,
   "id": "88dc47d6-ee79-4f0a-bca5-a6766397d78f",
   "metadata": {},
   "outputs": [],
   "source": []
  },
  {
   "cell_type": "code",
   "execution_count": null,
   "id": "2ef24879-1fe7-463f-843a-014ca02d5f82",
   "metadata": {},
   "outputs": [],
   "source": []
  },
  {
   "cell_type": "raw",
   "id": "f5b6cef7-80c6-4799-8ec3-3005327feaa0",
   "metadata": {},
   "source": [
    "some codes...."
   ]
  },
  {
   "cell_type": "code",
   "execution_count": 80,
   "id": "998fbac6-b3ec-4c2f-a10c-91956e0a943f",
   "metadata": {},
   "outputs": [],
   "source": [
    "path = 'C:\\\\Users\\\\marim\\\\Desktop\\\\summer 2024 projects\\\\internship 2024\\\\data\\\\'\n",
    "\n",
    "df = pd.read_csv(path + \"BrokenH11_perimeter.csv\") # read from csv FileExistsError"
   ]
  },
  {
   "cell_type": "code",
   "execution_count": 81,
   "id": "7ec5d91a-d0ce-45f9-b6ad-eab26b973600",
   "metadata": {},
   "outputs": [
    {
     "data": {
      "text/html": [
       "<div>\n",
       "<style scoped>\n",
       "    .dataframe tbody tr th:only-of-type {\n",
       "        vertical-align: middle;\n",
       "    }\n",
       "\n",
       "    .dataframe tbody tr th {\n",
       "        vertical-align: top;\n",
       "    }\n",
       "\n",
       "    .dataframe thead th {\n",
       "        text-align: right;\n",
       "    }\n",
       "</style>\n",
       "<table border=\"1\" class=\"dataframe\">\n",
       "  <thead>\n",
       "    <tr style=\"text-align: right;\">\n",
       "      <th></th>\n",
       "      <th>node1</th>\n",
       "      <th>node2</th>\n",
       "      <th>voltage</th>\n",
       "      <th>letters</th>\n",
       "    </tr>\n",
       "  </thead>\n",
       "  <tbody>\n",
       "    <tr>\n",
       "      <th>0</th>\n",
       "      <td>N00</td>\n",
       "      <td>N01</td>\n",
       "      <td>2.741082</td>\n",
       "      <td>AB</td>\n",
       "    </tr>\n",
       "    <tr>\n",
       "      <th>1</th>\n",
       "      <td>N01</td>\n",
       "      <td>N02</td>\n",
       "      <td>1.155879</td>\n",
       "      <td>BC</td>\n",
       "    </tr>\n",
       "    <tr>\n",
       "      <th>2</th>\n",
       "      <td>N02</td>\n",
       "      <td>N03</td>\n",
       "      <td>0.726552</td>\n",
       "      <td>CD</td>\n",
       "    </tr>\n",
       "    <tr>\n",
       "      <th>3</th>\n",
       "      <td>N03</td>\n",
       "      <td>N13</td>\n",
       "      <td>0.726552</td>\n",
       "      <td>DE</td>\n",
       "    </tr>\n",
       "    <tr>\n",
       "      <th>4</th>\n",
       "      <td>N13</td>\n",
       "      <td>N23</td>\n",
       "      <td>1.750329</td>\n",
       "      <td>EF</td>\n",
       "    </tr>\n",
       "    <tr>\n",
       "      <th>5</th>\n",
       "      <td>N23</td>\n",
       "      <td>N33</td>\n",
       "      <td>2.899602</td>\n",
       "      <td>FG</td>\n",
       "    </tr>\n",
       "    <tr>\n",
       "      <th>6</th>\n",
       "      <td>N32</td>\n",
       "      <td>N33</td>\n",
       "      <td>2.741082</td>\n",
       "      <td>HG</td>\n",
       "    </tr>\n",
       "    <tr>\n",
       "      <th>7</th>\n",
       "      <td>N31</td>\n",
       "      <td>N32</td>\n",
       "      <td>1.433289</td>\n",
       "      <td>IH</td>\n",
       "    </tr>\n",
       "    <tr>\n",
       "      <th>8</th>\n",
       "      <td>N30</td>\n",
       "      <td>N31</td>\n",
       "      <td>0.726552</td>\n",
       "      <td>JI</td>\n",
       "    </tr>\n",
       "    <tr>\n",
       "      <th>9</th>\n",
       "      <td>N20</td>\n",
       "      <td>N30</td>\n",
       "      <td>0.726552</td>\n",
       "      <td>KJ</td>\n",
       "    </tr>\n",
       "    <tr>\n",
       "      <th>10</th>\n",
       "      <td>N10</td>\n",
       "      <td>N20</td>\n",
       "      <td>1.472919</td>\n",
       "      <td>LK</td>\n",
       "    </tr>\n",
       "    <tr>\n",
       "      <th>11</th>\n",
       "      <td>N00</td>\n",
       "      <td>N10</td>\n",
       "      <td>2.899602</td>\n",
       "      <td>AL</td>\n",
       "    </tr>\n",
       "  </tbody>\n",
       "</table>\n",
       "</div>"
      ],
      "text/plain": [
       "   node1 node2   voltage letters\n",
       "0    N00   N01  2.741082      AB\n",
       "1    N01   N02  1.155879      BC\n",
       "2    N02   N03  0.726552      CD\n",
       "3    N03   N13  0.726552      DE\n",
       "4    N13   N23  1.750329      EF\n",
       "5    N23   N33  2.899602      FG\n",
       "6    N32   N33  2.741082      HG\n",
       "7    N31   N32  1.433289      IH\n",
       "8    N30   N31  0.726552      JI\n",
       "9    N20   N30  0.726552      KJ\n",
       "10   N10   N20  1.472919      LK\n",
       "11   N00   N10  2.899602      AL"
      ]
     },
     "execution_count": 81,
     "metadata": {},
     "output_type": "execute_result"
    }
   ],
   "source": [
    "df"
   ]
  },
  {
   "cell_type": "code",
   "execution_count": 120,
   "id": "dd75c7e9-96cc-4496-b1c9-6dc7c94c468a",
   "metadata": {},
   "outputs": [
    {
     "data": {
      "text/plain": [
       "array([[0., 0., 0., 0.],\n",
       "       [0., 0., 0., 0.],\n",
       "       [0., 0., 0., 0.]])"
      ]
     },
     "execution_count": 120,
     "metadata": {},
     "output_type": "execute_result"
    }
   ],
   "source": [
    "n = 4\n",
    "H = np.zeros([n, n-1], dtype=float)\n",
    "# V = np.zeros([n, n-1], dtype=float)\n",
    "V = np.zeros([n-1, n], dtype=float)\n",
    "V"
   ]
  },
  {
   "cell_type": "code",
   "execution_count": 121,
   "id": "0636c1d7-efa9-460e-86ec-e59557ee90b0",
   "metadata": {},
   "outputs": [],
   "source": [
    "#This is made by hand!!! I will write a code to make it automaticly later\n",
    "H[0] = [2.74, 1.16, 0.73]\n",
    "# V[3] = [0.73, 1.75, 2.90]\n",
    "H[3] = [0.73, 1.43, 2.74]\n",
    "# V[0] = [2.90, 1.47, 0.73]\n",
    "V = np.array([[2.90, 0, 0, 0.73], \n",
    "                 [1.47, 0, 0, 1.75],\n",
    "                 [0.73, 0, 0, 2.90]])"
   ]
  },
  {
   "cell_type": "code",
   "execution_count": 122,
   "id": "b515792c-6b78-474a-8bde-1f89311f84ab",
   "metadata": {},
   "outputs": [
    {
     "data": {
      "text/plain": [
       "array([[2.74, 1.16, 0.73],\n",
       "       [0.  , 0.  , 0.  ],\n",
       "       [0.  , 0.  , 0.  ],\n",
       "       [0.73, 1.43, 2.74]])"
      ]
     },
     "execution_count": 122,
     "metadata": {},
     "output_type": "execute_result"
    }
   ],
   "source": [
    "H"
   ]
  },
  {
   "cell_type": "code",
   "execution_count": 123,
   "id": "291e4c54-2bcc-467d-a711-211eaa5f476f",
   "metadata": {},
   "outputs": [
    {
     "data": {
      "text/plain": [
       "array([[2.9 , 0.  , 0.  , 0.73],\n",
       "       [1.47, 0.  , 0.  , 1.75],\n",
       "       [0.73, 0.  , 0.  , 2.9 ]])"
      ]
     },
     "execution_count": 123,
     "metadata": {},
     "output_type": "execute_result"
    }
   ],
   "source": [
    "V"
   ]
  },
  {
   "cell_type": "code",
   "execution_count": 124,
   "id": "b912bad1-4483-435c-afe0-5906e99509b9",
   "metadata": {},
   "outputs": [
    {
     "name": "stdout",
     "output_type": "stream",
     "text": [
      "2.74 1.16\n",
      "1.5800000000000003\n",
      "1.16 0.73\n",
      "0.42999999999999994\n"
     ]
    },
    {
     "data": {
      "text/plain": [
       "array([[2.9 , 1.58, 0.43, 0.73],\n",
       "       [1.47, 0.  , 0.  , 1.75],\n",
       "       [0.73, 0.  , 0.  , 2.9 ]])"
      ]
     },
     "execution_count": 124,
     "metadata": {},
     "output_type": "execute_result"
    }
   ],
   "source": [
    "for i in range(n-2):\n",
    "    print(H[0][i], H[0][i+1])\n",
    "    V[0][i+1] = H[0][i] -  H[0][i+1]\n",
    "    print(V[0][i+1])\n",
    "V"
   ]
  },
  {
   "cell_type": "code",
   "execution_count": 125,
   "id": "17c51d7b-7692-4e12-88bb-a4a356fe4dd6",
   "metadata": {},
   "outputs": [
    {
     "name": "stdout",
     "output_type": "stream",
     "text": [
      "2.9 1.47\n",
      "1.43\n",
      "1.47 0.73\n",
      "0.74\n"
     ]
    },
    {
     "data": {
      "text/plain": [
       "array([[2.74, 1.16, 0.73],\n",
       "       [1.43, 0.  , 0.  ],\n",
       "       [0.74, 0.  , 0.  ],\n",
       "       [0.73, 1.43, 2.74]])"
      ]
     },
     "execution_count": 125,
     "metadata": {},
     "output_type": "execute_result"
    }
   ],
   "source": [
    "for i in range(n-2):\n",
    "    print(V[i][0], V[i+1][0])\n",
    "    H[i+1][0] = V[i][0] - V[i+1][0]\n",
    "    print(H[i+1][0])\n",
    "H"
   ]
  },
  {
   "cell_type": "code",
   "execution_count": 126,
   "id": "f7001fcf-3399-4d3a-b994-f74e85f72509",
   "metadata": {},
   "outputs": [
    {
     "name": "stdout",
     "output_type": "stream",
     "text": [
      "1 1\n",
      "1 2\n",
      "2 1\n",
      "2 2\n"
     ]
    }
   ],
   "source": [
    "for i in range(n):\n",
    "    for j in range(n-1):\n",
    "        if H[i][j] == 0:\n",
    "            print(i, j)"
   ]
  },
  {
   "cell_type": "code",
   "execution_count": null,
   "id": "ef6a03e0-41b7-4a15-aed7-ccc2f8ac2bb2",
   "metadata": {},
   "outputs": [],
   "source": []
  },
  {
   "cell_type": "code",
   "execution_count": null,
   "id": "5c2117ad-bc26-4092-bcb0-d4b66c0f1917",
   "metadata": {},
   "outputs": [],
   "source": []
  },
  {
   "cell_type": "code",
   "execution_count": null,
   "id": "52874d53-7e85-4d0e-b80f-8d857fce8f4e",
   "metadata": {},
   "outputs": [],
   "source": []
  },
  {
   "cell_type": "code",
   "execution_count": null,
   "id": "0d964f27-3089-443a-84b9-741dfc9cd594",
   "metadata": {},
   "outputs": [],
   "source": []
  },
  {
   "cell_type": "code",
   "execution_count": null,
   "id": "bb3946c4-13b0-49e2-b76c-1c6d3770b97b",
   "metadata": {},
   "outputs": [],
   "source": []
  },
  {
   "cell_type": "code",
   "execution_count": 89,
   "id": "df8dcf19-c66d-4633-9a54-0f95345d0475",
   "metadata": {},
   "outputs": [
    {
     "name": "stdout",
     "output_type": "stream",
     "text": [
      "-0.7\n",
      "-1.3100000000000003\n"
     ]
    },
    {
     "data": {
      "text/plain": [
       "array([[ 2.9 ,  1.58,  0.43,  0.73],\n",
       "       [ 1.47,  0.  ,  0.  ,  1.75],\n",
       "       [ 0.73, -0.7 , -1.31,  2.9 ]])"
      ]
     },
     "execution_count": 89,
     "metadata": {},
     "output_type": "execute_result"
    }
   ],
   "source": [
    "for i in range(n-2):\n",
    "    # print(H[3][i], H[0][i+1])\n",
    "    V[2][i+1] = H[3][i] -  H[3][i+1]\n",
    "    print(V[2][i+1])\n",
    "V"
   ]
  },
  {
   "cell_type": "code",
   "execution_count": 95,
   "id": "17579b70-7885-4043-b13d-2a58fc60a7df",
   "metadata": {},
   "outputs": [
    {
     "name": "stdout",
     "output_type": "stream",
     "text": [
      "2.9 1.5800000000000003\n",
      "1.3199999999999996\n",
      "1.5800000000000003 0.42999999999999994\n",
      "1.1500000000000004\n",
      "0.42999999999999994 0.73\n",
      "-0.30000000000000004\n"
     ]
    },
    {
     "data": {
      "text/plain": [
       "array([[ 2.74,  1.16,  0.73],\n",
       "       [ 1.32,  1.15, -0.3 ],\n",
       "       [ 0.  ,  0.  ,  0.  ],\n",
       "       [ 0.73,  1.43,  2.74]])"
      ]
     },
     "execution_count": 95,
     "metadata": {},
     "output_type": "execute_result"
    }
   ],
   "source": [
    "for i in range(n-1):\n",
    "    print(V[0][i], V[0][i+1])\n",
    "    H[1][i] = V[0][i] -  V[0][i+1]\n",
    "    print(H[1][i])\n",
    "H"
   ]
  },
  {
   "cell_type": "code",
   "execution_count": 72,
   "id": "942d950d-fbb3-4328-9c3e-b018626c8e3c",
   "metadata": {},
   "outputs": [
    {
     "name": "stdout",
     "output_type": "stream",
     "text": [
      "0.73 1.75\n",
      "-1.02\n",
      "1.75 2.9\n",
      "-1.15\n"
     ]
    },
    {
     "data": {
      "text/plain": [
       "array([[ 2.74,  1.16,  0.73],\n",
       "       [ 1.43,  0.  , -1.02],\n",
       "       [ 0.74,  0.  , -1.15],\n",
       "       [ 0.73,  1.43,  2.74]])"
      ]
     },
     "execution_count": 72,
     "metadata": {},
     "output_type": "execute_result"
    }
   ],
   "source": [
    "for i in range(n-2):\n",
    "    print(V[3][i], V[3][i+1])\n",
    "    H[i+1][2] = V[3][i] -  V[3][i+1]\n",
    "    print(H[i+1][2])\n",
    "H"
   ]
  },
  {
   "cell_type": "code",
   "execution_count": 73,
   "id": "9c9573b5-91d8-426c-9327-560497b2d90a",
   "metadata": {},
   "outputs": [
    {
     "data": {
      "text/plain": [
       "array([[ 2.9 ,  1.47,  0.73],\n",
       "       [ 1.58,  0.  , -0.7 ],\n",
       "       [ 0.43,  0.  , -1.31],\n",
       "       [ 0.73,  1.75,  2.9 ]])"
      ]
     },
     "execution_count": 73,
     "metadata": {},
     "output_type": "execute_result"
    }
   ],
   "source": [
    "for i in range(1, n-3):\n",
    "    print(i)\n",
    "    # print(H[0][i], H[0][i+1])\n",
    "    # V[i+1][0] = H[0][i] -  H[0][i+1]\n",
    "    # print(V[i+1][0])\n",
    "V"
   ]
  },
  {
   "cell_type": "code",
   "execution_count": null,
   "id": "0377a8c3-b6a3-446f-9cf5-160040a318cc",
   "metadata": {},
   "outputs": [],
   "source": []
  }
 ],
 "metadata": {
  "kernelspec": {
   "display_name": "Python 3 (ipykernel)",
   "language": "python",
   "name": "python3"
  },
  "language_info": {
   "codemirror_mode": {
    "name": "ipython",
    "version": 3
   },
   "file_extension": ".py",
   "mimetype": "text/x-python",
   "name": "python",
   "nbconvert_exporter": "python",
   "pygments_lexer": "ipython3",
   "version": "3.12.4"
  }
 },
 "nbformat": 4,
 "nbformat_minor": 5
}
