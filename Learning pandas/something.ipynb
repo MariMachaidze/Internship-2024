{
 "cells": [
  {
   "cell_type": "code",
   "execution_count": 152,
   "id": "2371fc25-37c2-40d6-a3d9-7b3ffea83f5f",
   "metadata": {},
   "outputs": [],
   "source": [
    "import pandas as pd"
   ]
  },
  {
   "cell_type": "code",
   "execution_count": 153,
   "id": "fde9829d-9d08-484d-85d3-9c0180a9cbeb",
   "metadata": {},
   "outputs": [],
   "source": [
    "path = 'C:\\\\Users\\\\marim\\\\Desktop\\\\summer 2024 projects\\\\internship 2024\\\\data\\\\'\n",
    "\n",
    "df = pd.read_csv(path + \"perimeter.csv\") # read from csv FileExistsError"
   ]
  },
  {
   "cell_type": "code",
   "execution_count": 154,
   "id": "476664c4-85cd-4880-b5a7-92d2079d5c78",
   "metadata": {},
   "outputs": [
    {
     "data": {
      "text/html": [
       "<div>\n",
       "<style scoped>\n",
       "    .dataframe tbody tr th:only-of-type {\n",
       "        vertical-align: middle;\n",
       "    }\n",
       "\n",
       "    .dataframe tbody tr th {\n",
       "        vertical-align: top;\n",
       "    }\n",
       "\n",
       "    .dataframe thead th {\n",
       "        text-align: right;\n",
       "    }\n",
       "</style>\n",
       "<table border=\"1\" class=\"dataframe\">\n",
       "  <thead>\n",
       "    <tr style=\"text-align: right;\">\n",
       "      <th></th>\n",
       "      <th>node1</th>\n",
       "      <th>node2</th>\n",
       "      <th>voltage difference</th>\n",
       "      <th>broken V11</th>\n",
       "      <th>broken H11</th>\n",
       "      <th>letters</th>\n",
       "    </tr>\n",
       "  </thead>\n",
       "  <tbody>\n",
       "    <tr>\n",
       "      <th>0</th>\n",
       "      <td>N00</td>\n",
       "      <td>N01</td>\n",
       "      <td>2.692306</td>\n",
       "      <td>2.899602</td>\n",
       "      <td>2.741082</td>\n",
       "      <td>AB</td>\n",
       "    </tr>\n",
       "    <tr>\n",
       "      <th>1</th>\n",
       "      <td>N01</td>\n",
       "      <td>N02</td>\n",
       "      <td>1.538461</td>\n",
       "      <td>1.472919</td>\n",
       "      <td>1.155879</td>\n",
       "      <td>BC</td>\n",
       "    </tr>\n",
       "    <tr>\n",
       "      <th>2</th>\n",
       "      <td>N02</td>\n",
       "      <td>N03</td>\n",
       "      <td>0.769230</td>\n",
       "      <td>0.726552</td>\n",
       "      <td>0.726552</td>\n",
       "      <td>CD</td>\n",
       "    </tr>\n",
       "    <tr>\n",
       "      <th>3</th>\n",
       "      <td>N03</td>\n",
       "      <td>N13</td>\n",
       "      <td>0.769230</td>\n",
       "      <td>0.726552</td>\n",
       "      <td>0.726552</td>\n",
       "      <td>DE</td>\n",
       "    </tr>\n",
       "    <tr>\n",
       "      <th>4</th>\n",
       "      <td>N13</td>\n",
       "      <td>N23</td>\n",
       "      <td>1.538461</td>\n",
       "      <td>1.433289</td>\n",
       "      <td>1.750329</td>\n",
       "      <td>EF</td>\n",
       "    </tr>\n",
       "    <tr>\n",
       "      <th>5</th>\n",
       "      <td>N23</td>\n",
       "      <td>N33</td>\n",
       "      <td>2.692306</td>\n",
       "      <td>2.741082</td>\n",
       "      <td>2.899602</td>\n",
       "      <td>FG</td>\n",
       "    </tr>\n",
       "    <tr>\n",
       "      <th>6</th>\n",
       "      <td>N32</td>\n",
       "      <td>N33</td>\n",
       "      <td>2.692306</td>\n",
       "      <td>2.899602</td>\n",
       "      <td>2.741082</td>\n",
       "      <td>GH</td>\n",
       "    </tr>\n",
       "    <tr>\n",
       "      <th>7</th>\n",
       "      <td>N31</td>\n",
       "      <td>N32</td>\n",
       "      <td>1.538461</td>\n",
       "      <td>1.750329</td>\n",
       "      <td>1.433289</td>\n",
       "      <td>HI</td>\n",
       "    </tr>\n",
       "    <tr>\n",
       "      <th>8</th>\n",
       "      <td>N30</td>\n",
       "      <td>N31</td>\n",
       "      <td>0.769230</td>\n",
       "      <td>0.726552</td>\n",
       "      <td>0.726552</td>\n",
       "      <td>IJ</td>\n",
       "    </tr>\n",
       "    <tr>\n",
       "      <th>9</th>\n",
       "      <td>N20</td>\n",
       "      <td>N30</td>\n",
       "      <td>0.769230</td>\n",
       "      <td>0.726552</td>\n",
       "      <td>0.726552</td>\n",
       "      <td>JK</td>\n",
       "    </tr>\n",
       "    <tr>\n",
       "      <th>10</th>\n",
       "      <td>N10</td>\n",
       "      <td>N20</td>\n",
       "      <td>1.538461</td>\n",
       "      <td>1.155879</td>\n",
       "      <td>1.472919</td>\n",
       "      <td>KL</td>\n",
       "    </tr>\n",
       "    <tr>\n",
       "      <th>11</th>\n",
       "      <td>N10</td>\n",
       "      <td>N00</td>\n",
       "      <td>-2.692306</td>\n",
       "      <td>-2.741082</td>\n",
       "      <td>-2.899602</td>\n",
       "      <td>AL</td>\n",
       "    </tr>\n",
       "  </tbody>\n",
       "</table>\n",
       "</div>"
      ],
      "text/plain": [
       "   node1 node2  voltage difference  broken V11  broken H11 letters\n",
       "0    N00   N01            2.692306    2.899602    2.741082      AB\n",
       "1    N01   N02            1.538461    1.472919    1.155879      BC\n",
       "2    N02   N03            0.769230    0.726552    0.726552      CD\n",
       "3    N03   N13            0.769230    0.726552    0.726552      DE\n",
       "4    N13   N23            1.538461    1.433289    1.750329      EF\n",
       "5    N23   N33            2.692306    2.741082    2.899602      FG\n",
       "6    N32   N33            2.692306    2.899602    2.741082      GH\n",
       "7    N31   N32            1.538461    1.750329    1.433289      HI\n",
       "8    N30   N31            0.769230    0.726552    0.726552      IJ\n",
       "9    N20   N30            0.769230    0.726552    0.726552      JK\n",
       "10   N10   N20            1.538461    1.155879    1.472919      KL\n",
       "11   N10   N00           -2.692306   -2.741082   -2.899602      AL"
      ]
     },
     "execution_count": 154,
     "metadata": {},
     "output_type": "execute_result"
    }
   ],
   "source": [
    "df"
   ]
  },
  {
   "cell_type": "code",
   "execution_count": 155,
   "id": "6667a81f-d666-4dad-8052-dc1d78a00c39",
   "metadata": {},
   "outputs": [
    {
     "name": "stdout",
     "output_type": "stream",
     "text": [
      "[2.69230624260433 2.741081583407332 2.899601664255636]\n"
     ]
    },
    {
     "data": {
      "text/html": [
       "<div>\n",
       "<style scoped>\n",
       "    .dataframe tbody tr th:only-of-type {\n",
       "        vertical-align: middle;\n",
       "    }\n",
       "\n",
       "    .dataframe tbody tr th {\n",
       "        vertical-align: top;\n",
       "    }\n",
       "\n",
       "    .dataframe thead th {\n",
       "        text-align: right;\n",
       "    }\n",
       "</style>\n",
       "<table border=\"1\" class=\"dataframe\">\n",
       "  <thead>\n",
       "    <tr style=\"text-align: right;\">\n",
       "      <th></th>\n",
       "      <th>node1</th>\n",
       "      <th>node2</th>\n",
       "      <th>voltage difference</th>\n",
       "      <th>broken V11</th>\n",
       "      <th>broken H11</th>\n",
       "      <th>letters</th>\n",
       "    </tr>\n",
       "  </thead>\n",
       "  <tbody>\n",
       "    <tr>\n",
       "      <th>0</th>\n",
       "      <td>N00</td>\n",
       "      <td>N01</td>\n",
       "      <td>2.692306</td>\n",
       "      <td>2.899602</td>\n",
       "      <td>2.741082</td>\n",
       "      <td>AB</td>\n",
       "    </tr>\n",
       "    <tr>\n",
       "      <th>1</th>\n",
       "      <td>N01</td>\n",
       "      <td>N02</td>\n",
       "      <td>1.538461</td>\n",
       "      <td>1.472919</td>\n",
       "      <td>1.155879</td>\n",
       "      <td>BC</td>\n",
       "    </tr>\n",
       "    <tr>\n",
       "      <th>2</th>\n",
       "      <td>N02</td>\n",
       "      <td>N03</td>\n",
       "      <td>0.769230</td>\n",
       "      <td>0.726552</td>\n",
       "      <td>0.726552</td>\n",
       "      <td>CD</td>\n",
       "    </tr>\n",
       "    <tr>\n",
       "      <th>3</th>\n",
       "      <td>N03</td>\n",
       "      <td>N13</td>\n",
       "      <td>0.769230</td>\n",
       "      <td>0.726552</td>\n",
       "      <td>0.726552</td>\n",
       "      <td>DE</td>\n",
       "    </tr>\n",
       "    <tr>\n",
       "      <th>4</th>\n",
       "      <td>N13</td>\n",
       "      <td>N23</td>\n",
       "      <td>1.538461</td>\n",
       "      <td>1.433289</td>\n",
       "      <td>1.750329</td>\n",
       "      <td>EF</td>\n",
       "    </tr>\n",
       "    <tr>\n",
       "      <th>5</th>\n",
       "      <td>N23</td>\n",
       "      <td>N33</td>\n",
       "      <td>2.692306</td>\n",
       "      <td>2.741082</td>\n",
       "      <td>2.899602</td>\n",
       "      <td>FG</td>\n",
       "    </tr>\n",
       "    <tr>\n",
       "      <th>6</th>\n",
       "      <td>N32</td>\n",
       "      <td>N33</td>\n",
       "      <td>2.692306</td>\n",
       "      <td>2.899602</td>\n",
       "      <td>2.741082</td>\n",
       "      <td>GH</td>\n",
       "    </tr>\n",
       "    <tr>\n",
       "      <th>7</th>\n",
       "      <td>N31</td>\n",
       "      <td>N32</td>\n",
       "      <td>1.538461</td>\n",
       "      <td>1.750329</td>\n",
       "      <td>1.433289</td>\n",
       "      <td>HI</td>\n",
       "    </tr>\n",
       "    <tr>\n",
       "      <th>8</th>\n",
       "      <td>N30</td>\n",
       "      <td>N31</td>\n",
       "      <td>0.769230</td>\n",
       "      <td>0.726552</td>\n",
       "      <td>0.726552</td>\n",
       "      <td>IJ</td>\n",
       "    </tr>\n",
       "    <tr>\n",
       "      <th>9</th>\n",
       "      <td>N20</td>\n",
       "      <td>N30</td>\n",
       "      <td>0.769230</td>\n",
       "      <td>0.726552</td>\n",
       "      <td>0.726552</td>\n",
       "      <td>JK</td>\n",
       "    </tr>\n",
       "    <tr>\n",
       "      <th>10</th>\n",
       "      <td>N10</td>\n",
       "      <td>N20</td>\n",
       "      <td>1.538461</td>\n",
       "      <td>1.155879</td>\n",
       "      <td>1.472919</td>\n",
       "      <td>KL</td>\n",
       "    </tr>\n",
       "    <tr>\n",
       "      <th>11</th>\n",
       "      <td>N00</td>\n",
       "      <td>N10</td>\n",
       "      <td>2.692306</td>\n",
       "      <td>2.741082</td>\n",
       "      <td>2.899602</td>\n",
       "      <td>AL</td>\n",
       "    </tr>\n",
       "  </tbody>\n",
       "</table>\n",
       "</div>"
      ],
      "text/plain": [
       "   node1 node2  voltage difference  broken V11  broken H11 letters\n",
       "0    N00   N01            2.692306    2.899602    2.741082      AB\n",
       "1    N01   N02            1.538461    1.472919    1.155879      BC\n",
       "2    N02   N03            0.769230    0.726552    0.726552      CD\n",
       "3    N03   N13            0.769230    0.726552    0.726552      DE\n",
       "4    N13   N23            1.538461    1.433289    1.750329      EF\n",
       "5    N23   N33            2.692306    2.741082    2.899602      FG\n",
       "6    N32   N33            2.692306    2.899602    2.741082      GH\n",
       "7    N31   N32            1.538461    1.750329    1.433289      HI\n",
       "8    N30   N31            0.769230    0.726552    0.726552      IJ\n",
       "9    N20   N30            0.769230    0.726552    0.726552      JK\n",
       "10   N10   N20            1.538461    1.155879    1.472919      KL\n",
       "11   N00   N10            2.692306    2.741082    2.899602      AL"
      ]
     },
     "execution_count": 155,
     "metadata": {},
     "output_type": "execute_result"
    }
   ],
   "source": [
    "#AB BC CD DE EF FG GH HI IJ JK KL LA\n",
    "\n",
    "def swap(idx):\n",
    "    df.loc[idx,['node2','node1']] = df.loc[idx,['node1','node2']].values\n",
    "    print(df.loc[idx,['voltage difference','broken V11','broken H11']].values * (-1))\n",
    "    df.loc[idx,['voltage difference','broken V11','broken H11']] = df.loc[idx,['voltage difference','broken V11','broken H11']].values * (-1)\n",
    "    return df\n",
    "\n",
    "swap(11)\n",
    "df"
   ]
  },
  {
   "cell_type": "code",
   "execution_count": 156,
   "id": "2504b74a-a2bd-4494-a082-8114959e88c3",
   "metadata": {},
   "outputs": [
    {
     "data": {
      "text/plain": [
       "0     2.692306\n",
       "1     1.538461\n",
       "2     0.769230\n",
       "3     0.769230\n",
       "4     1.538461\n",
       "5     2.692306\n",
       "6     2.692306\n",
       "7     1.538461\n",
       "8     0.769230\n",
       "9     0.769230\n",
       "10    1.538461\n",
       "11    2.692306\n",
       "Name: voltage difference, dtype: float64"
      ]
     },
     "execution_count": 156,
     "metadata": {},
     "output_type": "execute_result"
    }
   ],
   "source": [
    "list = df['voltage difference']\n",
    "list"
   ]
  },
  {
   "cell_type": "code",
   "execution_count": 175,
   "id": "0c1ea2a0-d5df-4d04-aa06-b27f7b821da1",
   "metadata": {},
   "outputs": [
    {
     "name": "stdout",
     "output_type": "stream",
     "text": [
      "[1, 2, -3, -4]\n"
     ]
    },
    {
     "data": {
      "text/plain": [
       "[1, 2, -3, -4]"
      ]
     },
     "execution_count": 175,
     "metadata": {},
     "output_type": "execute_result"
    }
   ],
   "source": [
    "def list_inverse(list):\n",
    "    length = len(list)\n",
    "    for i in range(int(length/2), length):\n",
    "        list[i] = list[i] * -1\n",
    "    print(list)\n",
    "    return list\n",
    "list_inverse([1, 2, 3, 4])"
   ]
  },
  {
   "cell_type": "code",
   "execution_count": 158,
   "id": "78338378-17f7-48f2-8b0c-015b4fb12804",
   "metadata": {},
   "outputs": [
    {
     "name": "stdout",
     "output_type": "stream",
     "text": [
      "[-1, -2, -3, -4]\n"
     ]
    },
    {
     "data": {
      "text/plain": [
       "[-1, -2, -3, -4]"
      ]
     },
     "execution_count": 158,
     "metadata": {},
     "output_type": "execute_result"
    }
   ],
   "source": [
    "def list_change(list):\n",
    "    length = len(list)\n",
    "    for i in range(length):\n",
    "        list[i] = list[i] * -1\n",
    "    print(list)\n",
    "    return list\n",
    "list_change([1, 2, 3, 4])"
   ]
  },
  {
   "cell_type": "code",
   "execution_count": 159,
   "id": "554c1f6e-f535-4e50-a61c-ec34fe727639",
   "metadata": {},
   "outputs": [
    {
     "data": {
      "text/plain": [
       "4.66"
      ]
     },
     "execution_count": 159,
     "metadata": {},
     "output_type": "execute_result"
    }
   ],
   "source": [
    "import math\n",
    "\n",
    "x = 4.65678\n",
    "\n",
    "math.ceil(x * 100) / 100"
   ]
  },
  {
   "cell_type": "code",
   "execution_count": 160,
   "id": "b6657c43-ce59-42fa-8f54-9731caadec49",
   "metadata": {},
   "outputs": [],
   "source": [
    "def list_stuff(list):\n",
    "    new_list = []\n",
    "    for i in range(len(list)):\n",
    "        if i % 3 == 2:\n",
    "            continue\n",
    "        new_list.append(list[i] - list[i+1])\n",
    "    print(*new_list, sep='\\n')\n",
    "    print()\n",
    "    return new_list\n"
   ]
  },
  {
   "cell_type": "code",
   "execution_count": 161,
   "id": "c3362309-c950-4b27-884d-4c94fd8d5af3",
   "metadata": {},
   "outputs": [],
   "source": [
    "\n",
    "def formating(list):\n",
    "    new_list = []\n",
    "    for l in list:\n",
    "        # l = int(l * 100) / 100\n",
    "        l = math.ceil(l * 100) / 100\n",
    "        new_list.append(l)\n",
    "    print(new_list)\n"
   ]
  },
  {
   "cell_type": "code",
   "execution_count": 162,
   "id": "f1f21fa5-8468-4311-a3ed-ae18b3d69cee",
   "metadata": {},
   "outputs": [],
   "source": [
    "def list_second(list):\n",
    "    # list.append(list[0])\n",
    "    list.insert(0, list.pop())\n",
    "    # print(list)\n",
    "    new_list = []\n",
    "    for i in range(len(list)-1):\n",
    "        # print(list[i], i, list[i+1] + list[i])\n",
    "        if i % 2 == 1:\n",
    "            continue\n",
    "        new_list.append(list[i+1] + list[i])\n",
    "    print(*new_list, sep='\\n')\n",
    "    print()\n",
    "    return new_list\n",
    "# list = [1,2,3,4,5,6,7,8]\n",
    "# list = list_second(list)\n",
    "# list"
   ]
  },
  {
   "cell_type": "code",
   "execution_count": 163,
   "id": "abc9646b-722e-488d-90c5-ab66f6d6fa85",
   "metadata": {},
   "outputs": [],
   "source": [
    "def finding_node_values(list):\n",
    "    # list.append(list[0])\n",
    "    list.insert(0, list.pop())\n",
    "    # print(list)\n",
    "    new_list = []\n",
    "    for i in range(len(list)-1):\n",
    "        # print(list[i], i, list[i+1] + list[i])\n",
    "        new_list.append(list[i+1] - list[i])\n",
    "    print(*new_list, sep='\\n')\n",
    "    print()\n",
    "    return new_list\n",
    "# list = [1,2,3,4,5,6,7,8]\n",
    "# list = list_second(list)\n",
    "# list"
   ]
  },
  {
   "cell_type": "code",
   "execution_count": 210,
   "id": "7bc28eab-062b-4d88-b0ab-75f0ea7850e1",
   "metadata": {},
   "outputs": [],
   "source": [
    "COR = df['voltage difference'].tolist()\n",
    "V11 = df['broken V11'].tolist()\n",
    "H11 = df['broken H11'].tolist()"
   ]
  },
  {
   "cell_type": "code",
   "execution_count": 211,
   "id": "4a75d3cf-a5ab-4da4-abd7-9afcfdcc2b75",
   "metadata": {},
   "outputs": [
    {
     "name": "stdout",
     "output_type": "stream",
     "text": [
      "[2.69230624260433, 1.5384607100596162, 0.7692303550298085, 0.7692303550298085, 1.5384607100596188, 2.692306242604333, -2.692306242604333, -1.5384607100596188, -0.7692303550298085, -0.7692303550298085, -1.5384607100596162, -2.69230624260433]\n",
      "[2.8996016646445266, 1.4729187140091795, 0.7265518519136878, 0.7265518519136887, 1.4332886936455744, 2.741081583190095, -2.8996016644272906, -1.750328856119962, -0.7265518519136878, -0.7265518519136887, -1.1558785515347916, -2.741081583407332]\n",
      "[2.741081582975444, 1.1558785513962428, 0.7265518519299325, 0.7265518519299317, 1.7503288563234851, 2.8996016647617164, -2.7410815834815234, -1.4332886937631013, -0.7265518519299325, -0.7265518519299317, -1.472918713956627, -2.899601664255636]\n"
     ]
    }
   ],
   "source": [
    "COR = list_inverse(COR)\n",
    "V11 = list_inverse(V11)\n",
    "H11 = list_inverse(H11)"
   ]
  },
  {
   "cell_type": "code",
   "execution_count": 212,
   "id": "23e9dc87-7c3b-431a-a3c8-d3df0705a0ce",
   "metadata": {},
   "outputs": [
    {
     "name": "stdout",
     "output_type": "stream",
     "text": [
      "[2.7, 1.54, 0.77, 0.77, 1.54, 2.7, -2.69, -1.53, -0.76, -0.76, -1.53, -2.69]\n",
      "[2.9, 1.48, 0.73, 0.73, 1.44, 2.75, -2.89, -1.75, -0.72, -0.72, -1.15, -2.74]\n",
      "[2.75, 1.16, 0.73, 0.73, 1.76, 2.9, -2.74, -1.43, -0.72, -0.72, -1.47, -2.89]\n"
     ]
    }
   ],
   "source": [
    "formating(COR)\n",
    "formating(V11)\n",
    "formating(H11)"
   ]
  },
  {
   "cell_type": "code",
   "execution_count": 213,
   "id": "a40af46a-3933-427e-b95c-9cac5e8e4ede",
   "metadata": {},
   "outputs": [
    {
     "name": "stdout",
     "output_type": "stream",
     "text": [
      "1.1538455325447137\n",
      "0.7692303550298076\n",
      "-0.7692303550298103\n",
      "-1.1538455325447141\n",
      "-1.1538455325447141\n",
      "-0.7692303550298103\n",
      "0.7692303550298076\n",
      "1.1538455325447137\n",
      "\n",
      "1.4266829506353471\n",
      "0.7463668620954917\n",
      "-0.7067368417318858\n",
      "-1.3077928895445208\n",
      "-1.1492728083073287\n",
      "-1.0237770042062742\n",
      "0.4293266996211029\n",
      "1.5852030318725405\n",
      "\n",
      "1.585203031579201\n",
      "0.4293266994663103\n",
      "-1.0237770043935535\n",
      "-1.1492728084382313\n",
      "-1.3077928897184221\n",
      "-0.7067368418331688\n",
      "0.7463668620266954\n",
      "1.4266829502990088\n",
      "\n"
     ]
    }
   ],
   "source": [
    "COR_1 = list_stuff(COR)\n",
    "V11_1 = list_stuff(V11)\n",
    "H11_1 = list_stuff(H11)"
   ]
  },
  {
   "cell_type": "code",
   "execution_count": 209,
   "id": "9cc2a459-a7d6-4c57-8615-2bd5afa1fe8f",
   "metadata": {},
   "outputs": [
    {
     "name": "stdout",
     "output_type": "stream",
     "text": [
      "[1.1538455325447137, 0.7692303550298076, -0.7692303550298103, -1.1538455325447141, -1.1538455325447141, -0.7692303550298103, 0.7692303550298076, 1.1538455325447137]\n",
      "[1.4266829506353471, 0.7463668620954917, -0.7067368417318858, -1.3077928895445208, -1.1492728083073287, -1.0237770042062742, 0.4293266996211029, 1.5852030318725405]\n",
      "[1.585203031579201, 0.4293266994663103, -1.0237770043935535, -1.1492728084382313, -1.3077928897184221, -0.7067368418331688, 0.7463668620266954, 1.4266829502990088]\n"
     ]
    }
   ],
   "source": [
    "COR_1 = list_inverse(COR_1)\n",
    "V11_1 = list_inverse(V11_1)\n",
    "H11_1 = list_inverse(H11_1)"
   ]
  },
  {
   "cell_type": "code",
   "execution_count": 214,
   "id": "593dfc0d-0ed6-45d5-9621-a53584484836",
   "metadata": {},
   "outputs": [
    {
     "name": "stdout",
     "output_type": "stream",
     "text": [
      "[1.16, 0.77, -0.76, -1.15, -1.15, -0.76, 0.77, 1.16]\n",
      "[1.43, 0.75, -0.7, -1.3, -1.14, -1.02, 0.43, 1.59]\n",
      "[1.59, 0.43, -1.02, -1.14, -1.3, -0.7, 0.75, 1.43]\n"
     ]
    }
   ],
   "source": [
    "formating(COR_1)\n",
    "formating(V11_1)\n",
    "formating(H11_1)"
   ]
  },
  {
   "cell_type": "raw",
   "id": "e30c7504-95e9-4106-8cfe-a0dbb2fa1de9",
   "metadata": {},
   "source": [
    "I'm gonna use Kirchhoff's circuit laws to find next grid values."
   ]
  },
  {
   "cell_type": "code",
   "execution_count": 215,
   "id": "8a213984-43ce-4d7c-98df-acaeab94d8a6",
   "metadata": {},
   "outputs": [
    {
     "data": {
      "text/plain": [
       "[2.741081582975444,\n",
       " 1.1558785513962428,\n",
       " 0.7265518519299325,\n",
       " 0.7265518519299317,\n",
       " 1.7503288563234851,\n",
       " 2.8996016647617164,\n",
       " -2.7410815834815234,\n",
       " -1.4332886937631013,\n",
       " -0.7265518519299325,\n",
       " -0.7265518519299317,\n",
       " -1.472918713956627,\n",
       " -2.899601664255636]"
      ]
     },
     "execution_count": 215,
     "metadata": {},
     "output_type": "execute_result"
    }
   ],
   "source": [
    "H11"
   ]
  },
  {
   "cell_type": "code",
   "execution_count": 217,
   "id": "788ec052-67c8-482d-859d-4d5d8c1e4904",
   "metadata": {},
   "outputs": [
    {
     "data": {
      "text/plain": [
       "[1.585203031579201,\n",
       " 0.4293266994663103,\n",
       " -1.0237770043935535,\n",
       " -1.1492728084382313,\n",
       " -1.3077928897184221,\n",
       " -0.7067368418331688,\n",
       " 0.7463668620266954,\n",
       " 1.4266829502990088]"
      ]
     },
     "execution_count": 217,
     "metadata": {},
     "output_type": "execute_result"
    }
   ],
   "source": [
    "H11_1"
   ]
  },
  {
   "cell_type": "code",
   "execution_count": 218,
   "id": "47dc1780-43c8-4ecd-b400-34aa738a681b",
   "metadata": {},
   "outputs": [
    {
     "name": "stdout",
     "output_type": "stream",
     "text": [
      "0 1\n",
      "2.219283352200563e-06\n",
      "2 4\n",
      "1.6248330522788073\n",
      "4 7\n",
      "-0.832232645877848\n",
      "6 10\n",
      "-0.7926026256843137\n"
     ]
    }
   ],
   "source": [
    "for i in range(0, len(H11_1), 2):\n",
    "    print(i, int(i*3/2)+1)\n",
    "    print(H11_1[i] * -1 + H11_1[i+1] + H11[int(i*3/2)+1])"
   ]
  },
  {
   "cell_type": "code",
   "execution_count": null,
   "id": "ce73c550-dfda-4433-b3b5-8c60678c89c5",
   "metadata": {},
   "outputs": [],
   "source": []
  },
  {
   "cell_type": "code",
   "execution_count": null,
   "id": "093f2240-3848-45c9-8f1e-7ba78e6b6cb6",
   "metadata": {},
   "outputs": [],
   "source": []
  },
  {
   "cell_type": "code",
   "execution_count": null,
   "id": "408a75a2-7f15-49de-b489-e0930e2ba8b3",
   "metadata": {},
   "outputs": [],
   "source": []
  },
  {
   "cell_type": "code",
   "execution_count": null,
   "id": "f2eb682a-3984-4a99-9e58-a199a153030e",
   "metadata": {},
   "outputs": [],
   "source": []
  },
  {
   "cell_type": "code",
   "execution_count": null,
   "id": "1601a6c5-2f8e-41aa-8896-c2c770ba559e",
   "metadata": {},
   "outputs": [],
   "source": []
  },
  {
   "cell_type": "code",
   "execution_count": 146,
   "id": "134b0608-3a99-467b-b253-e8269c655307",
   "metadata": {},
   "outputs": [
    {
     "name": "stdout",
     "output_type": "stream",
     "text": [
      "2.3076910650894273\n",
      "-2.6645352591003757e-15\n",
      "-2.3076910650894282\n",
      "-2.6645352591003757e-15\n",
      "\n",
      "3.011885982507888\n",
      "0.03963002036360597\n",
      "-2.4570656978518493\n",
      "-0.5944503045851712\n",
      "\n",
      "3.0118859818782098\n",
      "-0.5944503049272432\n",
      "-2.4570656981566534\n",
      "0.03963002019352668\n",
      "\n"
     ]
    }
   ],
   "source": [
    "COR = list_second(COR)\n",
    "V11 = list_second(V11)\n",
    "H11 = list_second(H11)"
   ]
  },
  {
   "cell_type": "code",
   "execution_count": 147,
   "id": "d94071c6-f49a-4d8b-a04b-45fa501128c6",
   "metadata": {},
   "outputs": [
    {
     "name": "stdout",
     "output_type": "stream",
     "text": [
      "[2.31, 0.0, -2.3, 0.0]\n",
      "[3.02, 0.04, -2.45, -0.59]\n",
      "[3.02, -0.59, -2.45, 0.04]\n"
     ]
    }
   ],
   "source": [
    "formating(COR)\n",
    "formating(V11)\n",
    "formating(H11)"
   ]
  },
  {
   "cell_type": "raw",
   "id": "7b994886-44a1-4ce0-a824-bfc7d6d875de",
   "metadata": {},
   "source": [
    "AB  BC  CD  DE  EF  FG  GH  HI  IJ  JK  KL  LA\n",
    "  B1  C2      E2  F4      H4  I3      K3  L1\n",
    "    H11         V12         H21         V11"
   ]
  },
  {
   "cell_type": "code",
   "execution_count": 136,
   "id": "42809c9b-ce8e-4c88-99ce-eebdb1cfea87",
   "metadata": {},
   "outputs": [
    {
     "name": "stdout",
     "output_type": "stream",
     "text": [
      "0.0\n",
      "-1.1538455325447137\n",
      "-0.7692303550298076\n",
      "0.0\n",
      "0.7692303550298103\n",
      "1.1538455325447141\n",
      "0.0\n",
      "-1.1538455325447141\n",
      "-0.7692303550298103\n",
      "0.0\n",
      "0.7692303550298076\n",
      "\n",
      "0.15852008123719452\n",
      "-1.4266829506353471\n",
      "-0.7463668620954917\n",
      "8.881784197001252e-16\n",
      "0.7067368417318858\n",
      "1.3077928895445208\n",
      "0.1585200812371954\n",
      "-1.1492728083073287\n",
      "-1.0237770042062742\n",
      "8.881784197001252e-16\n",
      "0.4293266996211029\n",
      "\n",
      "-0.15852008128019213\n",
      "-1.585203031579201\n",
      "-0.4293266994663103\n",
      "-8.881784197001252e-16\n",
      "1.0237770043935535\n",
      "1.1492728084382313\n",
      "-0.15852008128019301\n",
      "-1.3077928897184221\n",
      "-0.7067368418331688\n",
      "-8.881784197001252e-16\n",
      "0.7463668620266954\n",
      "\n"
     ]
    }
   ],
   "source": [
    "COR = finding_node_values(COR)\n",
    "V11 = finding_node_values(V11)\n",
    "H11 = finding_node_values(H11)"
   ]
  },
  {
   "cell_type": "code",
   "execution_count": 184,
   "id": "ee90d561-8e9b-4270-95c8-7aceee3ff040",
   "metadata": {},
   "outputs": [
    {
     "name": "stdout",
     "output_type": "stream",
     "text": [
      "[-1.1538455325447137, -0.7692303550298076, 0.7692303550298103, 1.1538455325447141, -1.1538455325447141, -0.7692303550298103, 0.7692303550298076, 1.1538455325447137]\n",
      "[-1.4266829506353471, -0.7463668620954917, 0.7067368417318858, 1.3077928895445208, -1.1492728083073287, -1.0237770042062742, 0.4293266996211029, 1.5852030318725405]\n",
      "[-1.585203031579201, -0.4293266994663103, 1.0237770043935535, 1.1492728084382313, -1.3077928897184221, -0.7067368418331688, 0.7463668620266954, 1.4266829502990088]\n"
     ]
    }
   ],
   "source": [
    "COR_1 = list_change(COR_1)\n",
    "V11_1 = list_change(V11_1)\n",
    "H11_1 = list_change(H11_1)"
   ]
  },
  {
   "cell_type": "code",
   "execution_count": null,
   "id": "e12b14ec-9da4-4284-8d05-d1abdde00e9a",
   "metadata": {},
   "outputs": [],
   "source": []
  }
 ],
 "metadata": {
  "kernelspec": {
   "display_name": "Python 3 (ipykernel)",
   "language": "python",
   "name": "python3"
  },
  "language_info": {
   "codemirror_mode": {
    "name": "ipython",
    "version": 3
   },
   "file_extension": ".py",
   "mimetype": "text/x-python",
   "name": "python",
   "nbconvert_exporter": "python",
   "pygments_lexer": "ipython3",
   "version": "3.12.4"
  }
 },
 "nbformat": 4,
 "nbformat_minor": 5
}
