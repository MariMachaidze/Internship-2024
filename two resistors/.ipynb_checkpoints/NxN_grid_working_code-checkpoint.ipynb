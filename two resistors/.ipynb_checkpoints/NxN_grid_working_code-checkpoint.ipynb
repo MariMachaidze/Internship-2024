{
 "cells": [
  {
   "cell_type": "code",
   "execution_count": 1,
   "id": "3d8c7336-bc05-4568-be43-95a2909ad567",
   "metadata": {},
   "outputs": [],
   "source": [
    "import pandas as pd\n",
    "import numpy as np"
   ]
  },
  {
   "cell_type": "code",
   "execution_count": 2,
   "id": "bde203f5-dfdc-460c-8d53-229dd3715e01",
   "metadata": {},
   "outputs": [],
   "source": [
    "path = 'data//'\n",
    "n = 4  ## <-- This needs to be changed"
   ]
  },
  {
   "cell_type": "code",
   "execution_count": 3,
   "id": "fedf8f0d-b916-4e13-a51f-dffe7f55753f",
   "metadata": {},
   "outputs": [
    {
     "data": {
      "text/html": [
       "<div>\n",
       "<style scoped>\n",
       "    .dataframe tbody tr th:only-of-type {\n",
       "        vertical-align: middle;\n",
       "    }\n",
       "\n",
       "    .dataframe tbody tr th {\n",
       "        vertical-align: top;\n",
       "    }\n",
       "\n",
       "    .dataframe thead th {\n",
       "        text-align: right;\n",
       "    }\n",
       "</style>\n",
       "<table border=\"1\" class=\"dataframe\">\n",
       "  <thead>\n",
       "    <tr style=\"text-align: right;\">\n",
       "      <th></th>\n",
       "      <th>0</th>\n",
       "      <th>1</th>\n",
       "      <th>2</th>\n",
       "      <th>3</th>\n",
       "      <th>4</th>\n",
       "      <th>5</th>\n",
       "      <th>6</th>\n",
       "      <th>7</th>\n",
       "      <th>8</th>\n",
       "      <th>9</th>\n",
       "      <th>10</th>\n",
       "      <th>11</th>\n",
       "      <th>X</th>\n",
       "      <th>Y</th>\n",
       "    </tr>\n",
       "  </thead>\n",
       "  <tbody>\n",
       "    <tr>\n",
       "      <th>0</th>\n",
       "      <td>10.0</td>\n",
       "      <td>6.961304</td>\n",
       "      <td>5.146331</td>\n",
       "      <td>4.674296</td>\n",
       "      <td>7.297781</td>\n",
       "      <td>4.202261</td>\n",
       "      <td>6.155762</td>\n",
       "      <td>2.786159</td>\n",
       "      <td>5.431926</td>\n",
       "      <td>4.708091</td>\n",
       "      <td>2.954768</td>\n",
       "      <td>0.000006</td>\n",
       "      <td>NaN</td>\n",
       "      <td>NaN</td>\n",
       "    </tr>\n",
       "  </tbody>\n",
       "</table>\n",
       "</div>"
      ],
      "text/plain": [
       "      0         1         2         3         4         5         6         7  \\\n",
       "0  10.0  6.961304  5.146331  4.674296  7.297781  4.202261  6.155762  2.786159   \n",
       "\n",
       "          8         9        10        11   X   Y  \n",
       "0  5.431926  4.708091  2.954768  0.000006 NaN NaN  "
      ]
     },
     "execution_count": 3,
     "metadata": {},
     "output_type": "execute_result"
    }
   ],
   "source": [
    "## Importing dataset\n",
    "df = pd.read_csv('datasets//grid_V22_V13_nodes.csv')\n",
    "df"
   ]
  },
  {
   "cell_type": "code",
   "execution_count": 4,
   "id": "4ab0ad55-70fa-4130-860b-551336a295ad",
   "metadata": {
    "jupyter": {
     "source_hidden": true
    }
   },
   "outputs": [],
   "source": [
    "## H resistors\n",
    "\n",
    "H = pd.DataFrame()\n",
    "# dimentions are n rows and n-1 columns\n",
    "\n",
    "def reset_H():    \n",
    "    for i in range(1, n+1):\n",
    "        for j in range(1, n):\n",
    "            # print(j, i, df_nodes.loc[i, j], df_nodes.loc[j, i])\n",
    "            if i == 1 or i == n:\n",
    "                H.loc[i, j] = df_nodes.loc[i, j] - df_nodes.loc[i, j+1]\n",
    "            else:\n",
    "                H.loc[i, j] = 0\n",
    "    # print(H)\n"
   ]
  },
  {
   "cell_type": "code",
   "execution_count": 5,
   "id": "d4431e21-f68d-49f4-890a-cbd0cb298df9",
   "metadata": {
    "jupyter": {
     "source_hidden": true
    }
   },
   "outputs": [],
   "source": [
    "## V resistors\n",
    "\n",
    "V = pd.DataFrame() \n",
    "# dimentions are n-1 rows and n columns\n",
    "\n",
    "def reset_V():    \n",
    "    for i in range(1, n):\n",
    "        for j in range(1, n+1):\n",
    "            if j == 1 or j == n:\n",
    "                V.loc[i, j] = df_nodes.loc[i, j] - df_nodes.loc[i+1, j]\n",
    "            else:\n",
    "                V.loc[i, j] = 0\n",
    "    # print(V)\n"
   ]
  },
  {
   "cell_type": "code",
   "execution_count": 6,
   "id": "414ff2f6-f25d-4347-88ca-3463464a757f",
   "metadata": {
    "scrolled": true
   },
   "outputs": [],
   "source": [
    "## Funtion ROWS() to go through rows and check the resistors\n",
    "\n",
    "def ROWS():\n",
    "    for m in range(1, n):\n",
    "        reset_H()\n",
    "        reset_V()\n",
    "        ## STEP 1: Creating V resistors voltage differences\n",
    "        \n",
    "        for i in range(m, m+1): # till n\n",
    "            for j in range(2, n):\n",
    "                # print(i, j, df_columns.loc[i, j])\n",
    "                if i == 1 :\n",
    "                    V.loc[i, j] = H.loc[i, j-1] - H.loc[i, j]\n",
    "                else:\n",
    "                    V.loc[i, j] = H.loc[i, j-1] - H.loc[i, j] + V.loc[i-1, j]\n",
    "                if 0 < V.loc[i, j] < 0.00001:\n",
    "                    print(\"ERROR HERE \", i, j)\n",
    "                    return 'V', i, j\n",
    "        # print(\"\\nV resistors:\\n\", V)\n",
    "        \n",
    "        ## STEP 2: Creating H resistors voltage differences\n",
    "        \n",
    "        for i in range(m+1, m+2):\n",
    "            if i == n:\n",
    "                break\n",
    "            for j in range(1, n):\n",
    "                H.loc[i, j] = -V.loc[i-1, j] + H.loc[i-1, j] + V.loc[i-1, j+1]\n",
    "                if 0 < H.loc[i, j] < 0.00001:\n",
    "                    print(\"ERROR HERE \", i, j)\n",
    "                    return 'H', i, j\n",
    "        # print(\"\\nH resistors:\\n\", H)\n",
    "   \n",
    "        # print(\"\\n\\n\\nNEXT Row \", m, \"\\n\\n\\n\")\n",
    "    return '', 0, 0\n",
    "\n",
    "# print(\"H \", ROWS(), \" is broken\")"
   ]
  },
  {
   "cell_type": "code",
   "execution_count": 7,
   "id": "9e067cd4-e4f4-44d1-85fd-4512e49e357d",
   "metadata": {},
   "outputs": [],
   "source": [
    "## Function COLUMNS() to go though columns and check the resistors\n",
    "\n",
    "def COLUMNS():\n",
    "    # data\n",
    "    for m in range(1, n):\n",
    "        reset_H()\n",
    "        reset_V()\n",
    "        ## STEP 1: Creating V resistors voltage differences\n",
    "        \n",
    "        for j in range(m, m+1): # till n\n",
    "            for i in range(2, n):\n",
    "                # print(i, j, df_columns.loc[i, j])\n",
    "                if j == 1 :\n",
    "                    H.loc[i, j] = V.loc[i-1, j] - V.loc[i, j]\n",
    "                else:\n",
    "                    H.loc[i, j] = V.loc[i-1, j] - V.loc[i, j] + H.loc[i, j-1]\n",
    "                if 0 < H.loc[i, j] < 0.00001:\n",
    "                    print(\"ERROR HERE \", i, j)\n",
    "                    # return 'H', i, j\n",
    "        print(\"\\nH resistors:\\n\", H)\n",
    "        \n",
    "        ## STEP 2: Creating H resistors voltage differences\n",
    "        \n",
    "        for j in range(m+1, m+2):\n",
    "            if j == n:\n",
    "                break\n",
    "            for i in range(1, n):\n",
    "                V.loc[i, j] = -H.loc[i, j-1] + V.loc[i, j-1] + H.loc[i+1, j-1]\n",
    "                if 0 < V.loc[i, j] < 0.00001:\n",
    "                    print(\"ERROR HERE \", i, j)\n",
    "                    # return 'V', i, j\n",
    "        print(\"\\nV resistors:\\n\", V)\n",
    "            \n",
    "        # print(\"\\n\\n\\nNEXT Row \", m, \"\\n\\n\\n\")\n",
    "    return '', 0, 0\n",
    "\n",
    "# print(\"V \", COLUMNS(), \" is broken\")"
   ]
  },
  {
   "cell_type": "code",
   "execution_count": 8,
   "id": "6eee19f4-0e47-48b8-b284-116d1d85c337",
   "metadata": {},
   "outputs": [],
   "source": [
    "## Function border_checker() to go over the border and check if one of them is broken \n",
    "\n",
    "def border_checker():\n",
    "    reset_H()\n",
    "    reset_V()\n",
    "    for i in range(1, n+1):\n",
    "        for j in range(1, n):\n",
    "            if i == 1 or i == n:\n",
    "                if 0 < H.loc[i, j] < 0.00001:\n",
    "                    return 'H', i, j\n",
    "    for i in range(1, n):\n",
    "        for j in range(1, n+1):\n",
    "            if j == 1 or j == n:\n",
    "                if 0 < V.loc[i, j] < 0.00001:\n",
    "                    return 'V', i, j\n",
    "    return '', 0, 0"
   ]
  },
  {
   "cell_type": "code",
   "execution_count": 9,
   "id": "9aaab770-57bc-49c9-be9d-3ca14abdd991",
   "metadata": {},
   "outputs": [
    {
     "name": "stdout",
     "output_type": "stream",
     "text": [
      "\n",
      "NEW BROKEN RESISTOR  0\n",
      "\n",
      "H resistors:\n",
      "           1         2         3\n",
      "1  3.038696  1.814973  0.472035\n",
      "2  1.560200  0.000000  0.000000\n",
      "3  0.418184  0.000000  0.000000\n",
      "4  0.723835  1.753323  2.954763\n",
      "ERROR HERE  2 2\n",
      "\n",
      "V resistors:\n",
      "           1         2    3         4\n",
      "1  2.702219  1.223723  0.0  0.472035\n",
      "2  1.142019  0.000002  0.0  1.416103\n",
      "3  0.723835  1.029487  0.0  2.786153\n",
      "\n",
      "H resistors:\n",
      "           1         2         3\n",
      "1  3.038696  1.814973  0.472035\n",
      "2  0.000000  0.000000  0.000000\n",
      "3  0.000000  0.000000  0.000000\n",
      "4  0.723835  1.753323  2.954763\n",
      "\n",
      "V resistors:\n",
      "           1    2         3         4\n",
      "1  2.702219  0.0 -1.814973  0.472035\n",
      "2  1.142019  0.0  0.000000  1.416103\n",
      "3  0.723835  0.0  1.753323  2.786153\n",
      "\n",
      "H resistors:\n",
      "           1         2         3\n",
      "1  3.038696  1.814973  0.472035\n",
      "2  0.000000  0.000000  0.000000\n",
      "3  0.000000  0.000000  0.000000\n",
      "4  0.723835  1.753323  2.954763\n",
      "\n",
      "V resistors:\n",
      "           1    2    3         4\n",
      "1  2.702219  0.0  0.0  0.472035\n",
      "2  1.142019  0.0  0.0  1.416103\n",
      "3  0.723835  0.0  0.0  2.786153\n"
     ]
    }
   ],
   "source": [
    "## Main code\n",
    "\n",
    "broken_data = []\n",
    "\n",
    "for a in range(1): #n * (n - 1) * 2 + 1\n",
    "    print(\"\\nNEW BROKEN RESISTOR \", a)\n",
    "    df_broken_node = df[a:a+1]\n",
    "    data = df_broken_node.transpose()[:(n-1)*4][a].tolist()\n",
    "\n",
    "    # making node grid\n",
    "    df_nodes = pd.DataFrame()\n",
    "    k = 0\n",
    "    for i in range(1, n+1):\n",
    "        for j in range(1, n+1):\n",
    "            if i == 1 or i == n or j == 1 or j == n:\n",
    "                df_nodes.loc[i, j] = data[k]\n",
    "                k = k + 1\n",
    "            else:\n",
    "                df_nodes.loc[i, j] = 0      \n",
    "    # print(df_nodes)\n",
    "\n",
    "    ### Border checking\n",
    "    border = border_checker();\n",
    "    if border == ('', 0, 0):\n",
    "        pass\n",
    "    else:\n",
    "        if border[0] == 'H':\n",
    "            broken_data.append([border[1], border[2]+0.5])\n",
    "        else:\n",
    "            broken_data.append([border[1]+0.5, border[2]])\n",
    "        print(\"BROKEN RESISTOR at border\", border)\n",
    "        continue\n",
    "\n",
    "    ### ROWS code\n",
    "    rows = ROWS()\n",
    "    if rows == ('', 0, 0):\n",
    "        pass\n",
    "    else:\n",
    "        if rows[0] == 'H':\n",
    "            broken_data.append([rows[1], rows[2]+0.5])\n",
    "        else:\n",
    "            broken_data.append([rows[1]+0.5, rows[2]])\n",
    "        print(\"H \", rows, \" is broken\")\n",
    "\n",
    "    ### COLUMNS code\n",
    "    columns = COLUMNS()\n",
    "    if columns == ('', 0, 0):\n",
    "        pass\n",
    "    else:\n",
    "        if columns[0] == 'H':\n",
    "            broken_data.append([columns[1], columns[2]+0.5])\n",
    "        else:\n",
    "            broken_data.append([columns[1]+0.5, columns[2]])\n",
    "        print(\"V \", columns, \" is broken\")\n",
    "   "
   ]
  },
  {
   "cell_type": "code",
   "execution_count": 10,
   "id": "577f8216-6168-49cc-91f1-4ceef333f3c4",
   "metadata": {},
   "outputs": [
    {
     "data": {
      "text/html": [
       "<div>\n",
       "<style scoped>\n",
       "    .dataframe tbody tr th:only-of-type {\n",
       "        vertical-align: middle;\n",
       "    }\n",
       "\n",
       "    .dataframe tbody tr th {\n",
       "        vertical-align: top;\n",
       "    }\n",
       "\n",
       "    .dataframe thead th {\n",
       "        text-align: right;\n",
       "    }\n",
       "</style>\n",
       "<table border=\"1\" class=\"dataframe\">\n",
       "  <thead>\n",
       "    <tr style=\"text-align: right;\">\n",
       "      <th></th>\n",
       "      <th>X</th>\n",
       "      <th>Y</th>\n",
       "    </tr>\n",
       "  </thead>\n",
       "  <tbody>\n",
       "    <tr>\n",
       "      <th>0</th>\n",
       "      <td>NaN</td>\n",
       "      <td>NaN</td>\n",
       "    </tr>\n",
       "  </tbody>\n",
       "</table>\n",
       "</div>"
      ],
      "text/plain": [
       "    X   Y\n",
       "0 NaN NaN"
      ]
     },
     "execution_count": 10,
     "metadata": {},
     "output_type": "execute_result"
    }
   ],
   "source": [
    "df_broken = pd.DataFrame()\n",
    "df_broken.loc[:, 'X'] = df.loc[:, 'X']\n",
    "df_broken.loc[:, 'Y'] = df.loc[:, 'Y']\n",
    "df_broken"
   ]
  },
  {
   "cell_type": "code",
   "execution_count": 11,
   "id": "d9149fa9-123e-4ed7-a7c2-bceff230f952",
   "metadata": {},
   "outputs": [
    {
     "data": {
      "text/html": [
       "<div>\n",
       "<style scoped>\n",
       "    .dataframe tbody tr th:only-of-type {\n",
       "        vertical-align: middle;\n",
       "    }\n",
       "\n",
       "    .dataframe tbody tr th {\n",
       "        vertical-align: top;\n",
       "    }\n",
       "\n",
       "    .dataframe thead th {\n",
       "        text-align: right;\n",
       "    }\n",
       "</style>\n",
       "<table border=\"1\" class=\"dataframe\">\n",
       "  <thead>\n",
       "    <tr style=\"text-align: right;\">\n",
       "      <th></th>\n",
       "      <th>X</th>\n",
       "      <th>Y</th>\n",
       "    </tr>\n",
       "  </thead>\n",
       "  <tbody>\n",
       "  </tbody>\n",
       "</table>\n",
       "</div>"
      ],
      "text/plain": [
       "Empty DataFrame\n",
       "Columns: [X, Y]\n",
       "Index: []"
      ]
     },
     "execution_count": 11,
     "metadata": {},
     "output_type": "execute_result"
    }
   ],
   "source": [
    "df_predicted = pd.DataFrame(data=broken_data, columns=['X', 'Y'])\n",
    "df_predicted"
   ]
  },
  {
   "cell_type": "code",
   "execution_count": 12,
   "id": "f0bb1931-0845-4dbb-ae09-c96cd1dc1774",
   "metadata": {},
   "outputs": [
    {
     "ename": "KeyError",
     "evalue": "0",
     "output_type": "error",
     "traceback": [
      "\u001b[1;31m---------------------------------------------------------------------------\u001b[0m",
      "\u001b[1;31mValueError\u001b[0m                                Traceback (most recent call last)",
      "File \u001b[1;32m~\\AppData\\Local\\Programs\\Python\\Python312\\Lib\\site-packages\\pandas\\core\\indexes\\range.py:413\u001b[0m, in \u001b[0;36mRangeIndex.get_loc\u001b[1;34m(self, key)\u001b[0m\n\u001b[0;32m    412\u001b[0m \u001b[38;5;28;01mtry\u001b[39;00m:\n\u001b[1;32m--> 413\u001b[0m     \u001b[38;5;28;01mreturn\u001b[39;00m \u001b[38;5;28;43mself\u001b[39;49m\u001b[38;5;241;43m.\u001b[39;49m\u001b[43m_range\u001b[49m\u001b[38;5;241;43m.\u001b[39;49m\u001b[43mindex\u001b[49m\u001b[43m(\u001b[49m\u001b[43mnew_key\u001b[49m\u001b[43m)\u001b[49m\n\u001b[0;32m    414\u001b[0m \u001b[38;5;28;01mexcept\u001b[39;00m \u001b[38;5;167;01mValueError\u001b[39;00m \u001b[38;5;28;01mas\u001b[39;00m err:\n",
      "\u001b[1;31mValueError\u001b[0m: 0 is not in range",
      "\nThe above exception was the direct cause of the following exception:\n",
      "\u001b[1;31mKeyError\u001b[0m                                  Traceback (most recent call last)",
      "Cell \u001b[1;32mIn[12], line 3\u001b[0m\n\u001b[0;32m      1\u001b[0m \u001b[38;5;28;01mfor\u001b[39;00m a \u001b[38;5;129;01min\u001b[39;00m \u001b[38;5;28mrange\u001b[39m(n \u001b[38;5;241m*\u001b[39m (n \u001b[38;5;241m-\u001b[39m \u001b[38;5;241m1\u001b[39m) \u001b[38;5;241m*\u001b[39m \u001b[38;5;241m2\u001b[39m): \u001b[38;5;66;03m#n * (n - 1) * 2 + 1\u001b[39;00m\n\u001b[0;32m      2\u001b[0m     \u001b[38;5;66;03m# print(df_broken.loc[a])\u001b[39;00m\n\u001b[1;32m----> 3\u001b[0m     \u001b[38;5;28;01mif\u001b[39;00m df_broken\u001b[38;5;241m.\u001b[39mloc[a, \u001b[38;5;124m'\u001b[39m\u001b[38;5;124mX\u001b[39m\u001b[38;5;124m'\u001b[39m] \u001b[38;5;241m==\u001b[39m \u001b[43mdf_predicted\u001b[49m\u001b[38;5;241;43m.\u001b[39;49m\u001b[43mloc\u001b[49m\u001b[43m[\u001b[49m\u001b[43ma\u001b[49m\u001b[43m,\u001b[49m\u001b[43m \u001b[49m\u001b[38;5;124;43m'\u001b[39;49m\u001b[38;5;124;43mX\u001b[39;49m\u001b[38;5;124;43m'\u001b[39;49m\u001b[43m]\u001b[49m \u001b[38;5;129;01mand\u001b[39;00m df_broken\u001b[38;5;241m.\u001b[39mloc[a, \u001b[38;5;124m'\u001b[39m\u001b[38;5;124mY\u001b[39m\u001b[38;5;124m'\u001b[39m] \u001b[38;5;241m==\u001b[39m df_predicted\u001b[38;5;241m.\u001b[39mloc[a, \u001b[38;5;124m'\u001b[39m\u001b[38;5;124mY\u001b[39m\u001b[38;5;124m'\u001b[39m]:\n\u001b[0;32m      4\u001b[0m         \u001b[38;5;28;01mpass\u001b[39;00m\n\u001b[0;32m      5\u001b[0m     \u001b[38;5;28;01melse\u001b[39;00m:\n",
      "File \u001b[1;32m~\\AppData\\Local\\Programs\\Python\\Python312\\Lib\\site-packages\\pandas\\core\\indexing.py:1183\u001b[0m, in \u001b[0;36m_LocationIndexer.__getitem__\u001b[1;34m(self, key)\u001b[0m\n\u001b[0;32m   1181\u001b[0m     key \u001b[38;5;241m=\u001b[39m \u001b[38;5;28mtuple\u001b[39m(com\u001b[38;5;241m.\u001b[39mapply_if_callable(x, \u001b[38;5;28mself\u001b[39m\u001b[38;5;241m.\u001b[39mobj) \u001b[38;5;28;01mfor\u001b[39;00m x \u001b[38;5;129;01min\u001b[39;00m key)\n\u001b[0;32m   1182\u001b[0m     \u001b[38;5;28;01mif\u001b[39;00m \u001b[38;5;28mself\u001b[39m\u001b[38;5;241m.\u001b[39m_is_scalar_access(key):\n\u001b[1;32m-> 1183\u001b[0m         \u001b[38;5;28;01mreturn\u001b[39;00m \u001b[38;5;28;43mself\u001b[39;49m\u001b[38;5;241;43m.\u001b[39;49m\u001b[43mobj\u001b[49m\u001b[38;5;241;43m.\u001b[39;49m\u001b[43m_get_value\u001b[49m\u001b[43m(\u001b[49m\u001b[38;5;241;43m*\u001b[39;49m\u001b[43mkey\u001b[49m\u001b[43m,\u001b[49m\u001b[43m \u001b[49m\u001b[43mtakeable\u001b[49m\u001b[38;5;241;43m=\u001b[39;49m\u001b[38;5;28;43mself\u001b[39;49m\u001b[38;5;241;43m.\u001b[39;49m\u001b[43m_takeable\u001b[49m\u001b[43m)\u001b[49m\n\u001b[0;32m   1184\u001b[0m     \u001b[38;5;28;01mreturn\u001b[39;00m \u001b[38;5;28mself\u001b[39m\u001b[38;5;241m.\u001b[39m_getitem_tuple(key)\n\u001b[0;32m   1185\u001b[0m \u001b[38;5;28;01melse\u001b[39;00m:\n\u001b[0;32m   1186\u001b[0m     \u001b[38;5;66;03m# we by definition only have the 0th axis\u001b[39;00m\n",
      "File \u001b[1;32m~\\AppData\\Local\\Programs\\Python\\Python312\\Lib\\site-packages\\pandas\\core\\frame.py:4221\u001b[0m, in \u001b[0;36mDataFrame._get_value\u001b[1;34m(self, index, col, takeable)\u001b[0m\n\u001b[0;32m   4215\u001b[0m engine \u001b[38;5;241m=\u001b[39m \u001b[38;5;28mself\u001b[39m\u001b[38;5;241m.\u001b[39mindex\u001b[38;5;241m.\u001b[39m_engine\n\u001b[0;32m   4217\u001b[0m \u001b[38;5;28;01mif\u001b[39;00m \u001b[38;5;129;01mnot\u001b[39;00m \u001b[38;5;28misinstance\u001b[39m(\u001b[38;5;28mself\u001b[39m\u001b[38;5;241m.\u001b[39mindex, MultiIndex):\n\u001b[0;32m   4218\u001b[0m     \u001b[38;5;66;03m# CategoricalIndex: Trying to use the engine fastpath may give incorrect\u001b[39;00m\n\u001b[0;32m   4219\u001b[0m     \u001b[38;5;66;03m#  results if our categories are integers that dont match our codes\u001b[39;00m\n\u001b[0;32m   4220\u001b[0m     \u001b[38;5;66;03m# IntervalIndex: IntervalTree has no get_loc\u001b[39;00m\n\u001b[1;32m-> 4221\u001b[0m     row \u001b[38;5;241m=\u001b[39m \u001b[38;5;28;43mself\u001b[39;49m\u001b[38;5;241;43m.\u001b[39;49m\u001b[43mindex\u001b[49m\u001b[38;5;241;43m.\u001b[39;49m\u001b[43mget_loc\u001b[49m\u001b[43m(\u001b[49m\u001b[43mindex\u001b[49m\u001b[43m)\u001b[49m\n\u001b[0;32m   4222\u001b[0m     \u001b[38;5;28;01mreturn\u001b[39;00m series\u001b[38;5;241m.\u001b[39m_values[row]\n\u001b[0;32m   4224\u001b[0m \u001b[38;5;66;03m# For MultiIndex going through engine effectively restricts us to\u001b[39;00m\n\u001b[0;32m   4225\u001b[0m \u001b[38;5;66;03m#  same-length tuples; see test_get_set_value_no_partial_indexing\u001b[39;00m\n",
      "File \u001b[1;32m~\\AppData\\Local\\Programs\\Python\\Python312\\Lib\\site-packages\\pandas\\core\\indexes\\range.py:415\u001b[0m, in \u001b[0;36mRangeIndex.get_loc\u001b[1;34m(self, key)\u001b[0m\n\u001b[0;32m    413\u001b[0m         \u001b[38;5;28;01mreturn\u001b[39;00m \u001b[38;5;28mself\u001b[39m\u001b[38;5;241m.\u001b[39m_range\u001b[38;5;241m.\u001b[39mindex(new_key)\n\u001b[0;32m    414\u001b[0m     \u001b[38;5;28;01mexcept\u001b[39;00m \u001b[38;5;167;01mValueError\u001b[39;00m \u001b[38;5;28;01mas\u001b[39;00m err:\n\u001b[1;32m--> 415\u001b[0m         \u001b[38;5;28;01mraise\u001b[39;00m \u001b[38;5;167;01mKeyError\u001b[39;00m(key) \u001b[38;5;28;01mfrom\u001b[39;00m \u001b[38;5;21;01merr\u001b[39;00m\n\u001b[0;32m    416\u001b[0m \u001b[38;5;28;01mif\u001b[39;00m \u001b[38;5;28misinstance\u001b[39m(key, Hashable):\n\u001b[0;32m    417\u001b[0m     \u001b[38;5;28;01mraise\u001b[39;00m \u001b[38;5;167;01mKeyError\u001b[39;00m(key)\n",
      "\u001b[1;31mKeyError\u001b[0m: 0"
     ]
    }
   ],
   "source": [
    "for a in range(n * (n - 1) * 2): #n * (n - 1) * 2 + 1\n",
    "    # print(df_broken.loc[a])\n",
    "    if df_broken.loc[a, 'X'] == df_predicted.loc[a, 'X'] and df_broken.loc[a, 'Y'] == df_predicted.loc[a, 'Y']:\n",
    "        pass\n",
    "    else:\n",
    "        print(\"ERROR in \", a)"
   ]
  },
  {
   "cell_type": "code",
   "execution_count": null,
   "id": "bb736a40-703d-4026-8d13-cb3ac08b1d5e",
   "metadata": {},
   "outputs": [],
   "source": []
  }
 ],
 "metadata": {
  "kernelspec": {
   "display_name": "Python 3 (ipykernel)",
   "language": "python",
   "name": "python3"
  },
  "language_info": {
   "codemirror_mode": {
    "name": "ipython",
    "version": 3
   },
   "file_extension": ".py",
   "mimetype": "text/x-python",
   "name": "python",
   "nbconvert_exporter": "python",
   "pygments_lexer": "ipython3",
   "version": "3.12.4"
  }
 },
 "nbformat": 4,
 "nbformat_minor": 5
}
